{
 "cells": [
  {
   "cell_type": "markdown",
   "metadata": {},
   "source": [
    "# This notebook tests the accuracy of our model again with validation data"
   ]
  },
  {
   "cell_type": "code",
   "execution_count": 48,
   "metadata": {},
   "outputs": [],
   "source": [
    "#import libraries\n",
    "import pandas as pd\n",
    "from transformers import AutoTokenizer, AutoModelForSequenceClassification,TextClassificationPipeline\n",
    "from sklearn.metrics import confusion_matrix, accuracy_score, precision_score, recall_score, f1_score, roc_curve, auc \n",
    "import numpy as np\n"
   ]
  },
  {
   "cell_type": "code",
   "execution_count": 49,
   "metadata": {},
   "outputs": [
    {
     "name": "stdout",
     "output_type": "stream",
     "text": [
      "Number of validation sentences: 438\n",
      "\n"
     ]
    },
    {
     "data": {
      "text/html": [
       "<div>\n",
       "<style scoped>\n",
       "    .dataframe tbody tr th:only-of-type {\n",
       "        vertical-align: middle;\n",
       "    }\n",
       "\n",
       "    .dataframe tbody tr th {\n",
       "        vertical-align: top;\n",
       "    }\n",
       "\n",
       "    .dataframe thead th {\n",
       "        text-align: right;\n",
       "    }\n",
       "</style>\n",
       "<table border=\"1\" class=\"dataframe\">\n",
       "  <thead>\n",
       "    <tr style=\"text-align: right;\">\n",
       "      <th></th>\n",
       "      <th>standard_type</th>\n",
       "      <th>document_title</th>\n",
       "      <th>document_text</th>\n",
       "      <th>label</th>\n",
       "    </tr>\n",
       "  </thead>\n",
       "  <tbody>\n",
       "    <tr>\n",
       "      <th>314</th>\n",
       "      <td>sustainable standards</td>\n",
       "      <td>validation_esg</td>\n",
       "      <td>institutions and other corporates. The IIF has...</td>\n",
       "      <td>0</td>\n",
       "    </tr>\n",
       "    <tr>\n",
       "      <th>60</th>\n",
       "      <td>sustainable standards</td>\n",
       "      <td>validation_esg</td>\n",
       "      <td>is needed for mitigation, because large-scale ...</td>\n",
       "      <td>0</td>\n",
       "    </tr>\n",
       "    <tr>\n",
       "      <th>131</th>\n",
       "      <td>sustainable standards</td>\n",
       "      <td>validation_esg</td>\n",
       "      <td>requirements. SFDR introduces three new concep...</td>\n",
       "      <td>0</td>\n",
       "    </tr>\n",
       "    <tr>\n",
       "      <th>319</th>\n",
       "      <td>sustainable standards</td>\n",
       "      <td>validation_esg</td>\n",
       "      <td>to figure out what you need to do, and where, ...</td>\n",
       "      <td>0</td>\n",
       "    </tr>\n",
       "    <tr>\n",
       "      <th>127</th>\n",
       "      <td>sustainable standards</td>\n",
       "      <td>validation_esg</td>\n",
       "      <td>Like the EU Taxonomy, a social taxonomy would ...</td>\n",
       "      <td>0</td>\n",
       "    </tr>\n",
       "    <tr>\n",
       "      <th>11</th>\n",
       "      <td>sustainable standards</td>\n",
       "      <td>validation_sustainable</td>\n",
       "      <td>across the sector are involved in the identifi...</td>\n",
       "      <td>0</td>\n",
       "    </tr>\n",
       "    <tr>\n",
       "      <th>342</th>\n",
       "      <td>non-sustainable standards</td>\n",
       "      <td>validation_nonsustainable</td>\n",
       "      <td>require some form of assurance when using ﬁnan...</td>\n",
       "      <td>1</td>\n",
       "    </tr>\n",
       "    <tr>\n",
       "      <th>128</th>\n",
       "      <td>sustainable standards</td>\n",
       "      <td>validation_esg</td>\n",
       "      <td>discussion,” wrote Sarah Thompson of Arthur Co...</td>\n",
       "      <td>0</td>\n",
       "    </tr>\n",
       "    <tr>\n",
       "      <th>75</th>\n",
       "      <td>sustainable standards</td>\n",
       "      <td>validation_esg</td>\n",
       "      <td>needs for SDG investments are vast and urgent....</td>\n",
       "      <td>0</td>\n",
       "    </tr>\n",
       "    <tr>\n",
       "      <th>86</th>\n",
       "      <td>sustainable standards</td>\n",
       "      <td>validation_esg</td>\n",
       "      <td>on March 4, 2020, and the European Parliament ...</td>\n",
       "      <td>0</td>\n",
       "    </tr>\n",
       "  </tbody>\n",
       "</table>\n",
       "</div>"
      ],
      "text/plain": [
       "                 standard_type             document_title  \\\n",
       "314      sustainable standards             validation_esg   \n",
       "60       sustainable standards             validation_esg   \n",
       "131      sustainable standards             validation_esg   \n",
       "319      sustainable standards             validation_esg   \n",
       "127      sustainable standards             validation_esg   \n",
       "11       sustainable standards     validation_sustainable   \n",
       "342  non-sustainable standards  validation_nonsustainable   \n",
       "128      sustainable standards             validation_esg   \n",
       "75       sustainable standards             validation_esg   \n",
       "86       sustainable standards             validation_esg   \n",
       "\n",
       "                                         document_text  label  \n",
       "314  institutions and other corporates. The IIF has...      0  \n",
       "60   is needed for mitigation, because large-scale ...      0  \n",
       "131  requirements. SFDR introduces three new concep...      0  \n",
       "319  to figure out what you need to do, and where, ...      0  \n",
       "127  Like the EU Taxonomy, a social taxonomy would ...      0  \n",
       "11   across the sector are involved in the identifi...      0  \n",
       "342  require some form of assurance when using ﬁnan...      1  \n",
       "128  discussion,” wrote Sarah Thompson of Arthur Co...      0  \n",
       "75   needs for SDG investments are vast and urgent....      0  \n",
       "86   on March 4, 2020, and the European Parliament ...      0  "
      ]
     },
     "execution_count": 49,
     "metadata": {},
     "output_type": "execute_result"
    }
   ],
   "source": [
    "# Load the training dataset into a pandas dataframe.\n",
    "df = pd.read_csv(\"/Users/pelumioluwaabiola/Downloads/Researchwork/CSVfiles/validation.csv\")\n",
    "\n",
    "# Report the number of sentences.\n",
    "print('Number of validation sentences: {:,}\\n'.format(df.shape[0]))\n",
    "\n",
    "# Display 10 random rows from the data.\n",
    "df.sample(10)"
   ]
  },
  {
   "cell_type": "code",
   "execution_count": 50,
   "metadata": {},
   "outputs": [],
   "source": [
    "# Get the lists of sentences and their standard type.\n",
    "sentences = df.document_text.values\n",
    "labels = df.label.values"
   ]
  },
  {
   "cell_type": "code",
   "execution_count": 51,
   "metadata": {},
   "outputs": [
    {
     "name": "stderr",
     "output_type": "stream",
     "text": [
      "/Library/Frameworks/Python.framework/Versions/3.11/lib/python3.11/site-packages/transformers/pipelines/text_classification.py:105: UserWarning: `return_all_scores` is now deprecated,  if want a similar functionality use `top_k=None` instead of `return_all_scores=True` or `top_k=1` instead of `return_all_scores=False`.\n",
      "  warnings.warn(\n"
     ]
    }
   ],
   "source": [
    "#load model and tokenizer\n",
    "tokenizer = AutoTokenizer.from_pretrained(\"Pelumioluwa/Sustainable-Finance-BERT\")\n",
    "model = AutoModelForSequenceClassification.from_pretrained(\"Pelumioluwa/Sustainable-Finance-BERT\")\n",
    "#pass both in a pipeline\n",
    "pipe = TextClassificationPipeline(model=model, tokenizer=tokenizer, return_all_scores=True)"
   ]
  },
  {
   "cell_type": "code",
   "execution_count": 52,
   "metadata": {},
   "outputs": [],
   "source": [
    "#make predictions on validation set \n",
    "preds = []\n",
    "max_score_item_list = []\n",
    "for sentence in sentences:\n",
    "    pred = pipe(sentence)\n",
    "    # Flatten the list of lists.\n",
    "    flat_data = [item for sublist in pred for item in sublist]\n",
    "\n",
    "    # Find the dictionary with the highest score.\n",
    "    max_score_item = max(flat_data, key=lambda x:x['score'])\n",
    "    max_score_item_list.append(max_score_item)\n",
    "\n",
    "    if max_score_item['label'] == 'LABEL_0':\n",
    "        preds.append(0)\n",
    "    else:\n",
    "        preds.append(1)"
   ]
  },
  {
   "cell_type": "code",
   "execution_count": 53,
   "metadata": {},
   "outputs": [
    {
     "name": "stdout",
     "output_type": "stream",
     "text": [
      "Confusion Matrix:\n",
      "[[333   1]\n",
      " [ 51  53]]\n",
      "Accuracy: 0.8812785388127854\n",
      "Precision: 0.9814814814814815\n",
      "Recall: 0.5096153846153846\n",
      "F1-Score: 0.6708860759493671\n",
      "ROC AUC: 0.7533106863196684\n"
     ]
    }
   ],
   "source": [
    "# Confusion Matrix \n",
    "cm = confusion_matrix(labels, preds) \n",
    "# Accuracy \n",
    "accuracy = accuracy_score(labels, preds) \n",
    "# Precision \n",
    "precision = precision_score(labels, preds) \n",
    "# Recall \n",
    "recall = recall_score(labels, preds) \n",
    "# F1-Score \n",
    "f1 = f1_score(labels, preds) \n",
    "# ROC Curve and AUC \n",
    "fpr, tpr, thresholds = roc_curve(labels, preds) \n",
    "roc_auc = auc(fpr, tpr) \n",
    "  \n",
    "print(\"Confusion Matrix:\") \n",
    "print(cm) \n",
    "print(\"Accuracy:\", accuracy) \n",
    "print(\"Precision:\", precision) \n",
    "print(\"Recall:\", recall) \n",
    "print(\"F1-Score:\", f1) \n",
    "print(\"ROC AUC:\", roc_auc)"
   ]
  },
  {
   "cell_type": "code",
   "execution_count": 54,
   "metadata": {},
   "outputs": [
    {
     "name": "stdout",
     "output_type": "stream",
     "text": [
      "non_sustain is :  104\n",
      "sustain is :  334\n"
     ]
    }
   ],
   "source": [
    "# Count the number of 1s and 0s in labels\n",
    "num_nonsustain = np.count_nonzero(labels == 1)\n",
    "num_sustain = np.count_nonzero(labels == 0)\n",
    "\n",
    "print('non_sustain is : ', num_nonsustain)\n",
    "print('sustain is : ', num_sustain)\n"
   ]
  },
  {
   "cell_type": "code",
   "execution_count": 55,
   "metadata": {},
   "outputs": [
    {
     "name": "stdout",
     "output_type": "stream",
     "text": [
      "non_sustain is :  54\n",
      "sustain is :  384\n"
     ]
    }
   ],
   "source": [
    "#count numbers of 1s and 0s in preds\n",
    "num_nonsustain_pred = preds.count(1)\n",
    "num_sustain_pred = preds.count(0)\n",
    "\n",
    "print('non_sustain is : ', num_nonsustain_pred)\n",
    "print('sustain is : ', num_sustain_pred)"
   ]
  }
 ],
 "metadata": {
  "kernelspec": {
   "display_name": "Python 3",
   "language": "python",
   "name": "python3"
  },
  "language_info": {
   "codemirror_mode": {
    "name": "ipython",
    "version": 3
   },
   "file_extension": ".py",
   "mimetype": "text/x-python",
   "name": "python",
   "nbconvert_exporter": "python",
   "pygments_lexer": "ipython3",
   "version": "3.11.5"
  }
 },
 "nbformat": 4,
 "nbformat_minor": 2
}

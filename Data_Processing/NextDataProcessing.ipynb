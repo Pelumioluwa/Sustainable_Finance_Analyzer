{
 "cells": [
  {
   "cell_type": "markdown",
   "metadata": {},
   "source": [
    "## This Document is processing the text document for BERT Training\n",
    "\n",
    "To continue the document processing the notebook follows the steps below \n",
    "1. Read the pdf standards \n",
    "2. Clean the documents\n",
    "3. Split into chunks\n",
    "4. Save chunks into dataframe\n",
    "5. Read the previous standard.csv created in the previous data processing notebook to a dataframe\n",
    "6. Add the new dataframe to the read dataframe\n",
    "7. Write into the csv document."
   ]
  },
  {
   "cell_type": "code",
   "execution_count": 286,
   "metadata": {},
   "outputs": [],
   "source": [
    "#import necessary libraries\n",
    "from pypdf import PdfReader\n",
    "from langchain.text_splitter import RecursiveCharacterTextSplitter\n",
    "import pandas as pd"
   ]
  },
  {
   "cell_type": "code",
   "execution_count": 287,
   "metadata": {},
   "outputs": [],
   "source": [
    "#define directories\n",
    "pdf_directory = '/Users/pelumioluwaabiola/Downloads/Researchwork/Standards'\n",
    "csv_directory = '/Users/pelumioluwaabiola/Downloads/Researchwork/CSVfiles/standards.csv'"
   ]
  },
  {
   "cell_type": "code",
   "execution_count": 289,
   "metadata": {},
   "outputs": [
    {
     "name": "stdout",
     "output_type": "stream",
     "text": [
      "['News & PublicationsJune 9, 2022\\nWhen the Insurance\\nIndustry Embraces\\nSustainability Labelling\\n\\uf08c\\n\\uf099\\n\\uf09a\\n\\uf232\\n\\uf0e0When the Insurance Industry Embraces Sustainability\\nLabelling\\nLast year Luxembourg sustainability and responsible investment labelling\\nagency LuxFLAG extended its scope beyond funds and green bonds to the\\ninsurance industry. Chairwoman Denise Voss and head of Sustainability\\nOperations Ahmed Ouamara explain the challenges of creating a\\ncerti\\x00cation process for the sustainability of insurance activities – initially\\nunit-linked life insurance products – and emerging opportunities in a\\n\\x00nancial sector in transition.\\nA decade and a half after the launch of LuxFLAG as an independent non-pro\\x00t entity dedicated to\\ncertifying the authenticity of responsible investment vehicles for the bene\\x00t of investors, the\\norganisation branched out last year with the creation of the LuxFLAG Sustainable Insurance Product\\n(LSIP) label – joining a total of 365 labelled products with €190 billion in assets at the end of last\\nyear.\\nSince then LuxFLAG – which appointed Isabelle Delas as CEO to succeed to the late Sachin Vankalas –\\nhas added a further 18 products authorised since April 1 to use its labels. These now encompass four\\npositive impact labels, for micro\\x00nance, climate \\x00nance environment and green bonds, and two\\nsustainable transition labels, for ESG investment funds and sustainable insurance products, notes\\nchairwoman Denise Voss.\\nLabels have been awarded to products not just from Luxembourg but domiciled in Belgium, Denmark,\\nFrance, Finland, Germany, Ireland, Monaco and Spain.\\nThe growth in LuxFLAG’s activities and range of labelled products re\\x00ect developments across the\\nEuropean and global \\x00nancial services industry, especially with the introduction of the Sustainable\\nFinance Disclosure Regulation and the EU taxonomy for sustainable activities, as well as the\\nincreasing convergence of regulatory requirements for funds and other comparable products such as\\ninsurance-linked investments.\\n“We added this insurance label because the SFDR and the rest of the European regulation applies to\\nall \\x00nancial market participants,” Ms Voss says. “Asset managers may be out ahead, but the insurance\\nand banking industries all need to comply as well. At the request of Luxembourg’s Association of\\nInsurance and Reinsurance Companies (ACA), we set up a working group with members of the\\nEN\\n\\uf002\\nSearch...Home LuxFLAG Labels\\uf078 Labelled Products Sustainability Knowledge Center\\nWhat we do\\uf078 About us\\uf078', 'insurance industry, auditors, lawyers and other experts to draw up criteria for the label. It’s very\\nsimilar to the ESG criteria for funds, but speci\\x00c to the insurance industry.”\\nChange of mindset\\nObtaining a LuxFLAG label is not the work of a moment, she notes: “The education required to do all\\nthis needs to run throughout an organisation, and it takes time. It’s not like the days when asset\\nmanagement was just about looking at the numbers. It requires a change of mindset, and time to\\nincorporate all of those non-\\x00nancial elements into areas such as investment management and risk\\nmanagement.”\\nAhmed Ouamara, the organisation’s head of Sustainability Operations, adds: “The SFDR is the\\nbaseline, but what we do is something more, because we’re neutral and independent. We certify not\\nonly the product and the portfolio, but also that the construction process is in line with the label\\ncriteria.” The labelling process, he says, includes not only a review of the documentation, but just as\\nimportantly sampling and testing of the portfolio to ensure that the research process is systematic\\nand has been properly conducted.\\nLuxFLAG’s coverage of \\x00nancial instruments other than investment funds di\\x00erentiates it from many\\nof the other \\x00nancial product labelling agencies across Europe. “Our aim is to engage with as many\\ndi\\x00erent market participants as possible,” Mr Ouamara says. “In insurance we are a pioneer – there\\nare currently no other labels for insurance products.”\\nThe \\x00rst labels for insurance products were awarded last December, and Ms Voss says LuxFLAG is\\nincreasingly being contacted by other industry members seeking to understand the requirements\\nand process. “The \\x00rst batch of applicants say our review was extremely thorough – perhaps more\\nthan people expected, which I take as a compliment. It means you really need to earn the label.”\\nLabelling criteria\\nMr Ouamara notes that the process starts with preliminary discussions to ensure that insurers can\\nprovide the right documentation and understand the application process. LuxFLAG’s process foresees\\nthat applicants can be rejected, but Ms Voss says this is not a desired outcome. “It’s about engaging\\nwith the asset manager or insurance company, so they understand what they need to do;” she says.\\n“Sometimes they have to go away and maybe come back in a year. Part of what the label is about is\\nhelping people progress along the journey.”\\nThe award of the insurance label is based on six criteria, starting with the sustainability of the\\nproduct’s underlying investment holdings; at least 66% of investments under discretionary\\nmanagement must comply with at least one of the seven responsible investment strategies de\\x00ned\\nby sustainable \\x00nance network Eurosif: best in class according to ESG criteria, engagement and\\nvoting, explicit ESG integration, exclusions, impact investing, screening according to international\\nstandards, and investment according to sustainability-linked themes.\\nIn addition, the product must be classi\\x00ed under SFDR article 8 (sustainability characteristics) or 9\\n(sustainability objective). For new unit-linked policies, at least 66% of o\\x00ered funds and 50% of\\ninvested funds must be article 8 or 9; for existing products the thresholds are 50% and 33%\\nrespectively. The insurer should incorporate responsible investment strategies into the product’s\\ninvestment process.\\nUnderlying investments must comply with LuxFLAG’s LSIP exclusion policy; the insurer must adhere\\nto best corporate responsibility and sustainability market practice, and regularly disclose\\nsustainability-related information publicly, including key performance indicators and data sources;\\nand the insurer must provide legal documentation including licensing details and for Luxembourg\\ncompanies, the product technical speci\\x00cations submitted to industry regulator Commissariat aux\\nAssurances.\\nEN\\n\\uf002\\nSearch...Home LuxFLAG Labels\\uf078 Labelled Products Sustainability Knowledge Center\\nWhat we do\\uf078 About us\\uf078', 'Exclusion policies\\nSays Mr Ouamara: “In general, we require at least three responsible investing strategies applied at\\nportfolio level for the ESG label but currently only one for the LSIP label. But the requirements will\\nevolve over time. We would expect it to change as the market matures.”\\nHe adds that the introduction of its own exclusion policies is a relatively recent development for\\nLuxFLAG: “The LSIP Exclusion policy is a mix of sector and value-based exclusions, and covers\\ncontroversial behaviour, controversial weapons and controversial jurisdictions, as well as the tobacco\\nsector. The exclusion of nuclear activities is on hold until further notice, given discussions at the\\nEuropean political level.”\\nMs Voss acknowledges that for herself and Mr Ouamara, who share a background in the asset\\nmanagement industry, the creation of the insurance label has been “a learning experience for us as\\nwell. Fortunately, we have insurance experts we can call upon as part of the education and\\ngovernance process.”\\nLabelling goes through three layers of review starting with LuxFLAG’s CEO, who makes a\\nrecommendation to the eligibility committee for the respective label; in the case of the insurance\\nlabel this includes industry and ESG specialists. The committee in turn issues a recommendation to\\nthe board, which determines whether a label should be granted or not.\\nChallenge of existing products\\n“The challenge with the insurance industry is that unlike an investment fund, for which the\\ninvestment strategy can be amended or an additional asset class added, for an insurance policy that’s\\nnot as easy,” Ms Voss says. “It is probably simpler to create a new product that meets the\\nrequirements of the label than to bring an existing one into compliance. That’s something the\\nindustry is having to \\x00gure out.”\\nShe adds: “The challenges are very di\\x00erent from one insurer to another, whether it’s on the\\ndistribution side, on governance or about the availability of data. Initially insurers with unit-linked\\nproducts had to determine which funds were under SFDR article 8 and 9, although their number has\\nrecently shot up. But we will soon be at the stage where asset managers must implement the SFDR\\nlevel 2 rules. All of this is happening at the speed of light.\\n“Meanwhile the clock is ticking as we try to get to net zero. We can play our part in this process by\\nsharing best practice, for example on divestment policy or the extent of disclosures. Insurance is a\\nmore conservative industry than the fund industry. The products are designed for the longer term –\\npolicy holders may be investing in the same product for multiple decades. Hence, it may take more\\nwork for insurance companies to \\x00gure out what to do about their existing products – but they will\\nget there.”\\nOther news\\nJoin our team as an intern /\\ntrainee (M/F/D)\\n15/01/2024LuxFLAG Sustainable\\nInvestment Week 2023\\ncerti\\x00ed with the Green\\nBusiness Events LogoLuxFLAG Sustainable\\nInvestment Week 2023:\\nShaping a Resilient World\\n19/09/2023\\nEN\\n\\uf002\\nSearch...Home LuxFLAG Labels\\uf078 Labelled Products Sustainability Knowledge Center\\nWhat we do\\uf078 About us\\uf078', '13/10/2023\\nSubscribe to our newsletter\\nAnd stay up to dateFirst name Last name Email address\\nI agree to the privacy policy.*Sign up\\nThe Luxembourg Finance Labelling Agency is an\\nindependent and international non-pro\\x00t\\nassociation created in Luxembourg in July 2006 by\\nseven private and public founding partners to\\nsupport sustainable \\x00nance: the Luxembourg\\nGovernment, ALFI, ABBL, ADA, the European\\nInvestment Bank, Luxembourg for Finance and the\\nLuxembourg Stock Exchange (Charter members).\\n\\uf0e1\\uf0e0\\uf095About Labels News\\nJoin our team as an intern /\\ntrainee (M/F/D)\\n15/01/2024\\nLuxFLAG Sustainable Investment\\nWeek 2023 certi\\x00ed with the\\nGreen Business Events Logo\\n13/10/2023\\n\\uf099\\uf08c\\uf167\\nAll rights reserved LuxFLAG a.s.b.l.Home\\nWhat we do\\nAbout us\\nContactMicro\\x00nance\\nClimate Finance\\nEnvironment\\nGreen Bond\\nESG\\nESG Insurance Product\\nESG Discretionary\\nMandate\\nDisclaimer & Data protection policy Contact\\nEN\\n\\uf002\\nSearch...Home LuxFLAG Labels\\uf078 Labelled Products Sustainability Knowledge Center\\nWhat we do\\uf078 About us\\uf078']\n"
     ]
    }
   ],
   "source": [
    "#read pdf file\n",
    "framework = []\n",
    "document_name = '/Jun19-luxflag-org-when-the-insurance-industry-embraces-sustainability-labelling-.pdf'\n",
    "reader = PdfReader(pdf_directory + document_name)\n",
    "number_of_pages = len(reader.pages)\n",
    "page = reader.pages[2]\n",
    "text = page.extract_text()\n",
    "\n",
    "for i in range(0, number_of_pages):\n",
    "    page = reader.pages[i]\n",
    "    text = page.extract_text()\n",
    "    framework.append(text)\n",
    "\n",
    "print(framework)"
   ]
  },
  {
   "cell_type": "code",
   "execution_count": 294,
   "metadata": {},
   "outputs": [],
   "source": [
    "def clean_pdf(text):\n",
    "    # If the first character is a digit, remove it\n",
    "    for _ in range(4):\n",
    "        if text and text[0].isdigit():\n",
    "            text = text[1:]\n",
    "    #remove '\\n' (newlines)\n",
    "    text = text.replace('\\n', '  ')\n",
    "    # Remove '\\x0c' (form feed/new page)\n",
    "    text = text.replace('\\x0c', ' ')\n",
    "    # Remove '\\xa0' (non-breaking space)\n",
    "    text = text.replace('\\xa0', ' ')\n",
    "    #remove all other special characters\n",
    "    text = text.replace('\\uf08c', ' ')\n",
    "    text = text.replace('\\uf099', ' ')\n",
    "    text = text.replace('\\uf09a ', ' ')\n",
    "    text = text.replace('\\uf232', ' ')\n",
    "    text = text.replace('\\uf0e0', ' ')\n",
    "    text = text.replace('\\x00', ' ')\n",
    "    text = text.replace('\\uf0e1', ' ')\n",
    "    text = text.replace('\\uf095', ' ')\n",
    "    #remove all unnecessary spaces\n",
    "    text = ' '.join(text.split())\n",
    "\n",
    "\n",
    "\n",
    "    return text"
   ]
  },
  {
   "cell_type": "code",
   "execution_count": 295,
   "metadata": {},
   "outputs": [
    {
     "data": {
      "text/plain": [
       "['News & PublicationsJune 9, 2022 When the Insurance Industry Embraces Sustainability Labelling When the Insurance Industry Embraces Sustainability Labelling Last year Luxembourg sustainability and responsible investment labelling agency LuxFLAG extended its scope beyond funds and green bonds to the insurance industry. Chairwoman Denise Voss and head of Sustainability Operations Ahmed Ouamara explain the challenges of creating a certi cation process for the sustainability of insurance activities – initially unit-linked life insurance products – and emerging opportunities in a nancial sector in transition. A decade and a half after the launch of LuxFLAG as an independent non-pro t entity dedicated to certifying the authenticity of responsible investment vehicles for the bene t of investors, the organisation branched out last year with the creation of the LuxFLAG Sustainable Insurance Product (LSIP) label – joining a total of 365 labelled products with €190 billion in assets at the end of last year. Since then LuxFLAG – which appointed Isabelle Delas as CEO to succeed to the late Sachin Vankalas – has added a further 18 products authorised since April 1 to use its labels. These now encompass four positive impact labels, for micro nance, climate nance environment and green bonds, and two sustainable transition labels, for ESG investment funds and sustainable insurance products, notes chairwoman Denise Voss. Labels have been awarded to products not just from Luxembourg but domiciled in Belgium, Denmark, France, Finland, Germany, Ireland, Monaco and Spain. The growth in LuxFLAG’s activities and range of labelled products re ect developments across the European and global nancial services industry, especially with the introduction of the Sustainable Finance Disclosure Regulation and the EU taxonomy for sustainable activities, as well as the increasing convergence of regulatory requirements for funds and other comparable products such as insurance-linked investments. “We added this insurance label because the SFDR and the rest of the European regulation applies to all nancial market participants,” Ms Voss says. “Asset managers may be out ahead, but the insurance and banking industries all need to comply as well. At the request of Luxembourg’s Association of Insurance and Reinsurance Companies (ACA), we set up a working group with members of the EN \\uf002 Search...Home LuxFLAG Labels\\uf078 Labelled Products Sustainability Knowledge Center What we do\\uf078 About us\\uf078',\n",
       " 'insurance industry, auditors, lawyers and other experts to draw up criteria for the label. It’s very similar to the ESG criteria for funds, but speci c to the insurance industry.” Change of mindset Obtaining a LuxFLAG label is not the work of a moment, she notes: “The education required to do all this needs to run throughout an organisation, and it takes time. It’s not like the days when asset management was just about looking at the numbers. It requires a change of mindset, and time to incorporate all of those non- nancial elements into areas such as investment management and risk management.” Ahmed Ouamara, the organisation’s head of Sustainability Operations, adds: “The SFDR is the baseline, but what we do is something more, because we’re neutral and independent. We certify not only the product and the portfolio, but also that the construction process is in line with the label criteria.” The labelling process, he says, includes not only a review of the documentation, but just as importantly sampling and testing of the portfolio to ensure that the research process is systematic and has been properly conducted. LuxFLAG’s coverage of nancial instruments other than investment funds di erentiates it from many of the other nancial product labelling agencies across Europe. “Our aim is to engage with as many di erent market participants as possible,” Mr Ouamara says. “In insurance we are a pioneer – there are currently no other labels for insurance products.” The rst labels for insurance products were awarded last December, and Ms Voss says LuxFLAG is increasingly being contacted by other industry members seeking to understand the requirements and process. “The rst batch of applicants say our review was extremely thorough – perhaps more than people expected, which I take as a compliment. It means you really need to earn the label.” Labelling criteria Mr Ouamara notes that the process starts with preliminary discussions to ensure that insurers can provide the right documentation and understand the application process. LuxFLAG’s process foresees that applicants can be rejected, but Ms Voss says this is not a desired outcome. “It’s about engaging with the asset manager or insurance company, so they understand what they need to do;” she says. “Sometimes they have to go away and maybe come back in a year. Part of what the label is about is helping people progress along the journey.” The award of the insurance label is based on six criteria, starting with the sustainability of the product’s underlying investment holdings; at least 66% of investments under discretionary management must comply with at least one of the seven responsible investment strategies de ned by sustainable nance network Eurosif: best in class according to ESG criteria, engagement and voting, explicit ESG integration, exclusions, impact investing, screening according to international standards, and investment according to sustainability-linked themes. In addition, the product must be classi ed under SFDR article 8 (sustainability characteristics) or 9 (sustainability objective). For new unit-linked policies, at least 66% of o ered funds and 50% of invested funds must be article 8 or 9; for existing products the thresholds are 50% and 33% respectively. The insurer should incorporate responsible investment strategies into the product’s investment process. Underlying investments must comply with LuxFLAG’s LSIP exclusion policy; the insurer must adhere to best corporate responsibility and sustainability market practice, and regularly disclose sustainability-related information publicly, including key performance indicators and data sources; and the insurer must provide legal documentation including licensing details and for Luxembourg companies, the product technical speci cations submitted to industry regulator Commissariat aux Assurances. EN \\uf002 Search...Home LuxFLAG Labels\\uf078 Labelled Products Sustainability Knowledge Center What we do\\uf078 About us\\uf078',\n",
       " 'Exclusion policies Says Mr Ouamara: “In general, we require at least three responsible investing strategies applied at portfolio level for the ESG label but currently only one for the LSIP label. But the requirements will evolve over time. We would expect it to change as the market matures.” He adds that the introduction of its own exclusion policies is a relatively recent development for LuxFLAG: “The LSIP Exclusion policy is a mix of sector and value-based exclusions, and covers controversial behaviour, controversial weapons and controversial jurisdictions, as well as the tobacco sector. The exclusion of nuclear activities is on hold until further notice, given discussions at the European political level.” Ms Voss acknowledges that for herself and Mr Ouamara, who share a background in the asset management industry, the creation of the insurance label has been “a learning experience for us as well. Fortunately, we have insurance experts we can call upon as part of the education and governance process.” Labelling goes through three layers of review starting with LuxFLAG’s CEO, who makes a recommendation to the eligibility committee for the respective label; in the case of the insurance label this includes industry and ESG specialists. The committee in turn issues a recommendation to the board, which determines whether a label should be granted or not. Challenge of existing products “The challenge with the insurance industry is that unlike an investment fund, for which the investment strategy can be amended or an additional asset class added, for an insurance policy that’s not as easy,” Ms Voss says. “It is probably simpler to create a new product that meets the requirements of the label than to bring an existing one into compliance. That’s something the industry is having to gure out.” She adds: “The challenges are very di erent from one insurer to another, whether it’s on the distribution side, on governance or about the availability of data. Initially insurers with unit-linked products had to determine which funds were under SFDR article 8 and 9, although their number has recently shot up. But we will soon be at the stage where asset managers must implement the SFDR level 2 rules. All of this is happening at the speed of light. “Meanwhile the clock is ticking as we try to get to net zero. We can play our part in this process by sharing best practice, for example on divestment policy or the extent of disclosures. Insurance is a more conservative industry than the fund industry. The products are designed for the longer term – policy holders may be investing in the same product for multiple decades. Hence, it may take more work for insurance companies to gure out what to do about their existing products – but they will get there.” Other news Join our team as an intern / trainee (M/F/D) 15/01/2024LuxFLAG Sustainable Investment Week 2023 certi ed with the Green Business Events LogoLuxFLAG Sustainable Investment Week 2023: Shaping a Resilient World 19/09/2023 EN \\uf002 Search...Home LuxFLAG Labels\\uf078 Labelled Products Sustainability Knowledge Center What we do\\uf078 About us\\uf078',\n",
       " '/10/2023 Subscribe to our newsletter And stay up to dateFirst name Last name Email address I agree to the privacy policy.*Sign up The Luxembourg Finance Labelling Agency is an independent and international non-pro t association created in Luxembourg in July 2006 by seven private and public founding partners to support sustainable nance: the Luxembourg Government, ALFI, ABBL, ADA, the European Investment Bank, Luxembourg for Finance and the Luxembourg Stock Exchange (Charter members). About Labels News Join our team as an intern / trainee (M/F/D) 15/01/2024 LuxFLAG Sustainable Investment Week 2023 certi ed with the Green Business Events Logo 13/10/2023 \\uf167 All rights reserved LuxFLAG a.s.b.l.Home What we do About us ContactMicro nance Climate Finance Environment Green Bond ESG ESG Insurance Product ESG Discretionary Mandate Disclaimer & Data protection policy Contact EN \\uf002 Search...Home LuxFLAG Labels\\uf078 Labelled Products Sustainability Knowledge Center What we do\\uf078 About us\\uf078']"
      ]
     },
     "execution_count": 295,
     "metadata": {},
     "output_type": "execute_result"
    }
   ],
   "source": [
    "#clean pdf\n",
    "clean_framework = []\n",
    "for i in range(len(framework)):\n",
    "    text = clean_pdf(framework[i])\n",
    "    clean_framework.append(text)\n",
    "\n",
    "clean_framework"
   ]
  },
  {
   "cell_type": "code",
   "execution_count": 296,
   "metadata": {},
   "outputs": [
    {
     "data": {
      "text/plain": [
       "['News & PublicationsJune 9, 2022 When the Insurance Industry Embraces Sustainability Labelling When the Insurance Industry Embraces Sustainability Labelling Last year Luxembourg sustainability and responsible investment labelling agency LuxFLAG extended its scope beyond funds and green bonds to the insurance industry. Chairwoman Denise Voss and head of Sustainability Operations Ahmed Ouamara explain the challenges of creating a certi cation process for the sustainability of insurance activities – initially unit-linked life insurance products – and emerging opportunities in a nancial sector in transition. A decade and a half after the launch of LuxFLAG as an independent non-pro t entity dedicated to certifying the authenticity of responsible investment vehicles for the bene t of investors, the organisation branched out last year with the creation of the LuxFLAG Sustainable Insurance Product (LSIP) label – joining a total of 365 labelled products with €190 billion in assets at the end of last year. Since then LuxFLAG – which appointed Isabelle Delas as CEO to succeed to the late Sachin Vankalas – has added a further 18 products authorised since April 1 to use its labels. These now encompass four positive impact labels, for micro nance, climate nance environment and green bonds, and two sustainable transition labels, for ESG investment funds and sustainable insurance products, notes chairwoman Denise Voss. Labels have been awarded to products not just from Luxembourg but domiciled in Belgium, Denmark, France, Finland, Germany, Ireland, Monaco and Spain. The growth in LuxFLAG’s activities and range of labelled products re ect developments across the European and global nancial services industry, especially with the introduction of the Sustainable Finance Disclosure Regulation and the EU taxonomy for sustainable activities, as well as the increasing convergence of regulatory requirements for funds and other comparable products such as insurance-linked investments. “We added this insurance label because the SFDR and the rest of the European regulation applies to all nancial market participants,” Ms Voss says. “Asset managers may be out ahead, but the insurance and banking industries all need to comply as well. At the request of Luxembourg’s Association of Insurance and Reinsurance Companies (ACA), we set up a working group with members of the EN \\uf002 Search...Home LuxFLAG Labels\\uf078 Labelled Products Sustainability Knowledge Center What we do\\uf078 About us\\uf078',\n",
       " 'insurance industry, auditors, lawyers and other experts to draw up criteria for the label. It’s very similar to the ESG criteria for funds, but speci c to the insurance industry.” Change of mindset Obtaining a LuxFLAG label is not the work of a moment, she notes: “The education required to do all this needs to run throughout an organisation, and it takes time. It’s not like the days when asset management was just about looking at the numbers. It requires a change of mindset, and time to incorporate all of those non- nancial elements into areas such as investment management and risk management.” Ahmed Ouamara, the organisation’s head of Sustainability Operations, adds: “The SFDR is the baseline, but what we do is something more, because we’re neutral and independent. We certify not only the product and the portfolio, but also that the construction process is in line with the label criteria.” The labelling process, he says, includes not only a review of the documentation, but just as importantly sampling and testing of the portfolio to ensure that the research process is systematic and has been properly conducted. LuxFLAG’s coverage of nancial instruments other than investment funds di erentiates it from many of the other nancial product labelling agencies across Europe. “Our aim is to engage with as many di erent market participants as possible,” Mr Ouamara says. “In insurance we are a pioneer – there are currently no other labels for insurance products.” The rst labels for insurance products were awarded last December, and Ms Voss says LuxFLAG is increasingly being contacted by other industry members seeking to understand the requirements and process. “The rst batch of applicants say our review was extremely thorough – perhaps more than people expected, which I take as a compliment. It means you really need to earn the label.” Labelling criteria Mr Ouamara notes that the process starts with preliminary discussions to ensure that insurers can provide the right documentation and understand the application process. LuxFLAG’s process foresees that applicants can be rejected, but Ms Voss says this is not a desired outcome. “It’s about engaging with the asset manager or insurance company, so they understand what they need to do;” she says. “Sometimes they have to go away and maybe come back in a year. Part of what the label is about is helping people progress along the journey.” The award of the insurance label is based on six criteria, starting with the sustainability of the product’s underlying investment holdings; at least 66% of investments under discretionary management must comply with at least one of the seven responsible investment strategies de ned by sustainable nance network Eurosif: best in class according to ESG criteria, engagement and voting, explicit ESG integration, exclusions, impact investing, screening according to international standards, and investment according to sustainability-linked themes. In addition, the product must be classi ed under SFDR article 8 (sustainability characteristics) or 9 (sustainability objective). For new unit-linked policies, at least 66% of o ered funds and 50% of invested funds must be article 8 or 9; for existing products the thresholds are 50% and 33% respectively. The insurer should incorporate responsible investment strategies into the product’s investment process. Underlying investments must comply with LuxFLAG’s LSIP exclusion policy; the insurer must adhere to best corporate responsibility and sustainability market practice, and regularly disclose sustainability-related information publicly, including key performance indicators and data sources; and the insurer must provide legal documentation including licensing details and for Luxembourg companies, the product technical speci cations submitted to industry regulator Commissariat aux Assurances. EN \\uf002 Search...Home LuxFLAG Labels\\uf078 Labelled Products Sustainability Knowledge Center What we do\\uf078 About us\\uf078',\n",
       " 'Exclusion policies Says Mr Ouamara: “In general, we require at least three responsible investing strategies applied at portfolio level for the ESG label but currently only one for the LSIP label. But the requirements will evolve over time. We would expect it to change as the market matures.” He adds that the introduction of its own exclusion policies is a relatively recent development for LuxFLAG: “The LSIP Exclusion policy is a mix of sector and value-based exclusions, and covers controversial behaviour, controversial weapons and controversial jurisdictions, as well as the tobacco sector. The exclusion of nuclear activities is on hold until further notice, given discussions at the European political level.” Ms Voss acknowledges that for herself and Mr Ouamara, who share a background in the asset management industry, the creation of the insurance label has been “a learning experience for us as well. Fortunately, we have insurance experts we can call upon as part of the education and governance process.” Labelling goes through three layers of review starting with LuxFLAG’s CEO, who makes a recommendation to the eligibility committee for the respective label; in the case of the insurance label this includes industry and ESG specialists. The committee in turn issues a recommendation to the board, which determines whether a label should be granted or not. Challenge of existing products “The challenge with the insurance industry is that unlike an investment fund, for which the investment strategy can be amended or an additional asset class added, for an insurance policy that’s not as easy,” Ms Voss says. “It is probably simpler to create a new product that meets the requirements of the label than to bring an existing one into compliance. That’s something the industry is having to gure out.” She adds: “The challenges are very di erent from one insurer to another, whether it’s on the distribution side, on governance or about the availability of data. Initially insurers with unit-linked products had to determine which funds were under SFDR article 8 and 9, although their number has recently shot up. But we will soon be at the stage where asset managers must implement the SFDR level 2 rules. All of this is happening at the speed of light. “Meanwhile the clock is ticking as we try to get to net zero. We can play our part in this process by sharing best practice, for example on divestment policy or the extent of disclosures. Insurance is a more conservative industry than the fund industry. The products are designed for the longer term – policy holders may be investing in the same product for multiple decades. Hence, it may take more work for insurance companies to gure out what to do about their existing products – but they will get there.” Other news Join our team as an intern / trainee (M/F/D) 15/01/2024LuxFLAG Sustainable Investment Week 2023 certi ed with the Green Business Events LogoLuxFLAG Sustainable Investment Week 2023: Shaping a Resilient World 19/09/2023 EN \\uf002 Search...Home LuxFLAG Labels\\uf078 Labelled Products Sustainability Knowledge Center What we do\\uf078 About us\\uf078']"
      ]
     },
     "execution_count": 296,
     "metadata": {},
     "output_type": "execute_result"
    }
   ],
   "source": [
    "#delete any pdf page that is not needed\n",
    "del clean_framework[-1]\n",
    "clean_framework\n",
    "\n"
   ]
  },
  {
   "cell_type": "code",
   "execution_count": 297,
   "metadata": {},
   "outputs": [
    {
     "name": "stdout",
     "output_type": "stream",
     "text": [
      "[Document(page_content='News & PublicationsJune 9, 2022 When the Insurance Industry Embraces Sustainability Labelling When the Insurance Industry Embraces Sustainability Labelling Last year Luxembourg sustainability and responsible investment labelling agency LuxFLAG extended its scope beyond funds and green bonds to the insurance industry. Chairwoman Denise Voss and head of Sustainability Operations Ahmed Ouamara explain the challenges of creating a certi cation process for the sustainability of insurance activities – initially'), Document(page_content='unit-linked life insurance products – and emerging opportunities in a nancial sector in transition. A decade and a half after the launch of LuxFLAG as an independent non-pro t entity dedicated to certifying the authenticity of responsible investment vehicles for the bene t of investors, the organisation branched out last year with the creation of the LuxFLAG Sustainable Insurance Product (LSIP) label – joining a total of 365 labelled products with €190 billion in assets at the end of last year. Since then'), Document(page_content='LuxFLAG – which appointed Isabelle Delas as CEO to succeed to the late Sachin Vankalas – has added a further 18 products authorised since April 1 to use its labels. These now encompass four positive impact labels, for micro nance, climate nance environment and green bonds, and two sustainable transition labels, for ESG investment funds and sustainable insurance products, notes chairwoman Denise Voss. Labels have been awarded to products not just from Luxembourg but domiciled in Belgium, Denmark, France,'), Document(page_content='Finland, Germany, Ireland, Monaco and Spain. The growth in LuxFLAG’s activities and range of labelled products re ect developments across the European and global nancial services industry, especially with the introduction of the Sustainable Finance Disclosure Regulation and the EU taxonomy for sustainable activities, as well as the increasing convergence of regulatory requirements for funds and other comparable products such as insurance-linked investments. “We added this insurance label because the SFDR'), Document(page_content='and the rest of the European regulation applies to all nancial market participants,” Ms Voss says. “Asset managers may be out ahead, but the insurance and banking industries all need to comply as well. At the request of Luxembourg’s Association of Insurance and Reinsurance Companies (ACA), we set up a working group with members of the EN \\uf002 Search...Home LuxFLAG Labels\\uf078 Labelled Products Sustainability Knowledge Center What we do\\uf078 About us\\uf078'), Document(page_content='insurance industry, auditors, lawyers and other experts to draw up criteria for the label. It’s very similar to the ESG criteria for funds, but speci c to the insurance industry.” Change of mindset Obtaining a LuxFLAG label is not the work of a moment, she notes: “The education required to do all this needs to run throughout an organisation, and it takes time. It’s not like the days when asset management was just about looking at the numbers. It requires a change of mindset, and time to incorporate all of'), Document(page_content='those non- nancial elements into areas such as investment management and risk management.” Ahmed Ouamara, the organisation’s head of Sustainability Operations, adds: “The SFDR is the baseline, but what we do is something more, because we’re neutral and independent. We certify not only the product and the portfolio, but also that the construction process is in line with the label criteria.” The labelling process, he says, includes not only a review of the documentation, but just as importantly sampling and'), Document(page_content='testing of the portfolio to ensure that the research process is systematic and has been properly conducted. LuxFLAG’s coverage of nancial instruments other than investment funds di erentiates it from many of the other nancial product labelling agencies across Europe. “Our aim is to engage with as many di erent market participants as possible,” Mr Ouamara says. “In insurance we are a pioneer – there are currently no other labels for insurance products.” The rst labels for insurance products were awarded'), Document(page_content='last December, and Ms Voss says LuxFLAG is increasingly being contacted by other industry members seeking to understand the requirements and process. “The rst batch of applicants say our review was extremely thorough – perhaps more than people expected, which I take as a compliment. It means you really need to earn the label.” Labelling criteria Mr Ouamara notes that the process starts with preliminary discussions to ensure that insurers can provide the right documentation and understand the application'), Document(page_content='process. LuxFLAG’s process foresees that applicants can be rejected, but Ms Voss says this is not a desired outcome. “It’s about engaging with the asset manager or insurance company, so they understand what they need to do;” she says. “Sometimes they have to go away and maybe come back in a year. Part of what the label is about is helping people progress along the journey.” The award of the insurance label is based on six criteria, starting with the sustainability of the product’s underlying investment'), Document(page_content='holdings; at least 66% of investments under discretionary management must comply with at least one of the seven responsible investment strategies de ned by sustainable nance network Eurosif: best in class according to ESG criteria, engagement and voting, explicit ESG integration, exclusions, impact investing, screening according to international standards, and investment according to sustainability-linked themes. In addition, the product must be classi ed under SFDR article 8 (sustainability'), Document(page_content='characteristics) or 9 (sustainability objective). For new unit-linked policies, at least 66% of o ered funds and 50% of invested funds must be article 8 or 9; for existing products the thresholds are 50% and 33% respectively. The insurer should incorporate responsible investment strategies into the product’s investment process. Underlying investments must comply with LuxFLAG’s LSIP exclusion policy; the insurer must adhere to best corporate responsibility and sustainability market practice, and regularly'), Document(page_content='disclose sustainability-related information publicly, including key performance indicators and data sources; and the insurer must provide legal documentation including licensing details and for Luxembourg companies, the product technical speci cations submitted to industry regulator Commissariat aux Assurances. EN \\uf002 Search...Home LuxFLAG Labels\\uf078 Labelled Products Sustainability Knowledge Center What we do\\uf078 About us\\uf078'), Document(page_content='Exclusion policies Says Mr Ouamara: “In general, we require at least three responsible investing strategies applied at portfolio level for the ESG label but currently only one for the LSIP label. But the requirements will evolve over time. We would expect it to change as the market matures.” He adds that the introduction of its own exclusion policies is a relatively recent development for LuxFLAG: “The LSIP Exclusion policy is a mix of sector and value-based exclusions, and covers controversial behaviour,'), Document(page_content='controversial weapons and controversial jurisdictions, as well as the tobacco sector. The exclusion of nuclear activities is on hold until further notice, given discussions at the European political level.” Ms Voss acknowledges that for herself and Mr Ouamara, who share a background in the asset management industry, the creation of the insurance label has been “a learning experience for us as well. Fortunately, we have insurance experts we can call upon as part of the education and governance process.”'), Document(page_content='Labelling goes through three layers of review starting with LuxFLAG’s CEO, who makes a recommendation to the eligibility committee for the respective label; in the case of the insurance label this includes industry and ESG specialists. The committee in turn issues a recommendation to the board, which determines whether a label should be granted or not. Challenge of existing products “The challenge with the insurance industry is that unlike an investment fund, for which the investment strategy can be'), Document(page_content='amended or an additional asset class added, for an insurance policy that’s not as easy,” Ms Voss says. “It is probably simpler to create a new product that meets the requirements of the label than to bring an existing one into compliance. That’s something the industry is having to gure out.” She adds: “The challenges are very di erent from one insurer to another, whether it’s on the distribution side, on governance or about the availability of data. Initially insurers with unit-linked products had to'), Document(page_content='determine which funds were under SFDR article 8 and 9, although their number has recently shot up. But we will soon be at the stage where asset managers must implement the SFDR level 2 rules. All of this is happening at the speed of light. “Meanwhile the clock is ticking as we try to get to net zero. We can play our part in this process by sharing best practice, for example on divestment policy or the extent of disclosures. Insurance is a more conservative industry than the fund industry. The products are'), Document(page_content='designed for the longer term – policy holders may be investing in the same product for multiple decades. Hence, it may take more work for insurance companies to gure out what to do about their existing products – but they will get there.” Other news Join our team as an intern / trainee (M/F/D) 15/01/2024LuxFLAG Sustainable Investment Week 2023 certi ed with the Green Business Events LogoLuxFLAG Sustainable Investment Week 2023: Shaping a Resilient World 19/09/2023 EN \\uf002 Search...Home LuxFLAG Labels\\uf078'), Document(page_content='Labelled Products Sustainability Knowledge Center What we do\\uf078 About us\\uf078')]\n",
      "Total number of chunks are : 20\n",
      "News & PublicationsJune 9, 2022 When the Insurance Industry Embraces Sustainability Labelling When the Insurance Industry Embraces Sustainability Labelling Last year Luxembourg sustainability and responsible investment labelling agency LuxFLAG extended its scope beyond funds and green bonds to the insurance industry. Chairwoman Denise Voss and head of Sustainability Operations Ahmed Ouamara explain the challenges of creating a certi cation process for the sustainability of insurance activities – initially\n",
      "Labelled Products Sustainability Knowledge Center What we do About us\n"
     ]
    }
   ],
   "source": [
    "#chunking the text into sentences\n",
    "\n",
    "textsplitter = RecursiveCharacterTextSplitter(\n",
    "    chunk_size=512,\n",
    "    chunk_overlap=0.25,\n",
    "    length_function=len,\n",
    "    is_separator_regex=False,\n",
    ")\n",
    "\n",
    "\n",
    "PdfChunks = textsplitter.create_documents(clean_framework)\n",
    "print(PdfChunks)\n",
    "print(f'Total number of chunks are : {len(PdfChunks)}')\n",
    "#print first chunk\n",
    "print(PdfChunks[0].page_content)\n",
    "#print last chunk\n",
    "print(PdfChunks[-1].page_content)\n"
   ]
  },
  {
   "cell_type": "code",
   "execution_count": 298,
   "metadata": {},
   "outputs": [
    {
     "data": {
      "text/plain": [
       "['News & PublicationsJune 9, 2022 When the Insurance Industry Embraces Sustainability Labelling When the Insurance Industry Embraces Sustainability Labelling Last year Luxembourg sustainability and responsible investment labelling agency LuxFLAG extended its scope beyond funds and green bonds to the insurance industry. Chairwoman Denise Voss and head of Sustainability Operations Ahmed Ouamara explain the challenges of creating a certi cation process for the sustainability of insurance activities – initially',\n",
       " 'unit-linked life insurance products – and emerging opportunities in a nancial sector in transition. A decade and a half after the launch of LuxFLAG as an independent non-pro t entity dedicated to certifying the authenticity of responsible investment vehicles for the bene t of investors, the organisation branched out last year with the creation of the LuxFLAG Sustainable Insurance Product (LSIP) label – joining a total of 365 labelled products with €190 billion in assets at the end of last year. Since then',\n",
       " 'LuxFLAG – which appointed Isabelle Delas as CEO to succeed to the late Sachin Vankalas – has added a further 18 products authorised since April 1 to use its labels. These now encompass four positive impact labels, for micro nance, climate nance environment and green bonds, and two sustainable transition labels, for ESG investment funds and sustainable insurance products, notes chairwoman Denise Voss. Labels have been awarded to products not just from Luxembourg but domiciled in Belgium, Denmark, France,',\n",
       " 'Finland, Germany, Ireland, Monaco and Spain. The growth in LuxFLAG’s activities and range of labelled products re ect developments across the European and global nancial services industry, especially with the introduction of the Sustainable Finance Disclosure Regulation and the EU taxonomy for sustainable activities, as well as the increasing convergence of regulatory requirements for funds and other comparable products such as insurance-linked investments. “We added this insurance label because the SFDR',\n",
       " 'and the rest of the European regulation applies to all nancial market participants,” Ms Voss says. “Asset managers may be out ahead, but the insurance and banking industries all need to comply as well. At the request of Luxembourg’s Association of Insurance and Reinsurance Companies (ACA), we set up a working group with members of the EN \\uf002 Search...Home LuxFLAG Labels\\uf078 Labelled Products Sustainability Knowledge Center What we do\\uf078 About us\\uf078',\n",
       " 'insurance industry, auditors, lawyers and other experts to draw up criteria for the label. It’s very similar to the ESG criteria for funds, but speci c to the insurance industry.” Change of mindset Obtaining a LuxFLAG label is not the work of a moment, she notes: “The education required to do all this needs to run throughout an organisation, and it takes time. It’s not like the days when asset management was just about looking at the numbers. It requires a change of mindset, and time to incorporate all of',\n",
       " 'those non- nancial elements into areas such as investment management and risk management.” Ahmed Ouamara, the organisation’s head of Sustainability Operations, adds: “The SFDR is the baseline, but what we do is something more, because we’re neutral and independent. We certify not only the product and the portfolio, but also that the construction process is in line with the label criteria.” The labelling process, he says, includes not only a review of the documentation, but just as importantly sampling and',\n",
       " 'testing of the portfolio to ensure that the research process is systematic and has been properly conducted. LuxFLAG’s coverage of nancial instruments other than investment funds di erentiates it from many of the other nancial product labelling agencies across Europe. “Our aim is to engage with as many di erent market participants as possible,” Mr Ouamara says. “In insurance we are a pioneer – there are currently no other labels for insurance products.” The rst labels for insurance products were awarded',\n",
       " 'last December, and Ms Voss says LuxFLAG is increasingly being contacted by other industry members seeking to understand the requirements and process. “The rst batch of applicants say our review was extremely thorough – perhaps more than people expected, which I take as a compliment. It means you really need to earn the label.” Labelling criteria Mr Ouamara notes that the process starts with preliminary discussions to ensure that insurers can provide the right documentation and understand the application',\n",
       " 'process. LuxFLAG’s process foresees that applicants can be rejected, but Ms Voss says this is not a desired outcome. “It’s about engaging with the asset manager or insurance company, so they understand what they need to do;” she says. “Sometimes they have to go away and maybe come back in a year. Part of what the label is about is helping people progress along the journey.” The award of the insurance label is based on six criteria, starting with the sustainability of the product’s underlying investment',\n",
       " 'holdings; at least 66% of investments under discretionary management must comply with at least one of the seven responsible investment strategies de ned by sustainable nance network Eurosif: best in class according to ESG criteria, engagement and voting, explicit ESG integration, exclusions, impact investing, screening according to international standards, and investment according to sustainability-linked themes. In addition, the product must be classi ed under SFDR article 8 (sustainability',\n",
       " 'characteristics) or 9 (sustainability objective). For new unit-linked policies, at least 66% of o ered funds and 50% of invested funds must be article 8 or 9; for existing products the thresholds are 50% and 33% respectively. The insurer should incorporate responsible investment strategies into the product’s investment process. Underlying investments must comply with LuxFLAG’s LSIP exclusion policy; the insurer must adhere to best corporate responsibility and sustainability market practice, and regularly',\n",
       " 'disclose sustainability-related information publicly, including key performance indicators and data sources; and the insurer must provide legal documentation including licensing details and for Luxembourg companies, the product technical speci cations submitted to industry regulator Commissariat aux Assurances. EN \\uf002 Search...Home LuxFLAG Labels\\uf078 Labelled Products Sustainability Knowledge Center What we do\\uf078 About us\\uf078',\n",
       " 'Exclusion policies Says Mr Ouamara: “In general, we require at least three responsible investing strategies applied at portfolio level for the ESG label but currently only one for the LSIP label. But the requirements will evolve over time. We would expect it to change as the market matures.” He adds that the introduction of its own exclusion policies is a relatively recent development for LuxFLAG: “The LSIP Exclusion policy is a mix of sector and value-based exclusions, and covers controversial behaviour,',\n",
       " 'controversial weapons and controversial jurisdictions, as well as the tobacco sector. The exclusion of nuclear activities is on hold until further notice, given discussions at the European political level.” Ms Voss acknowledges that for herself and Mr Ouamara, who share a background in the asset management industry, the creation of the insurance label has been “a learning experience for us as well. Fortunately, we have insurance experts we can call upon as part of the education and governance process.”',\n",
       " 'Labelling goes through three layers of review starting with LuxFLAG’s CEO, who makes a recommendation to the eligibility committee for the respective label; in the case of the insurance label this includes industry and ESG specialists. The committee in turn issues a recommendation to the board, which determines whether a label should be granted or not. Challenge of existing products “The challenge with the insurance industry is that unlike an investment fund, for which the investment strategy can be',\n",
       " 'amended or an additional asset class added, for an insurance policy that’s not as easy,” Ms Voss says. “It is probably simpler to create a new product that meets the requirements of the label than to bring an existing one into compliance. That’s something the industry is having to gure out.” She adds: “The challenges are very di erent from one insurer to another, whether it’s on the distribution side, on governance or about the availability of data. Initially insurers with unit-linked products had to',\n",
       " 'determine which funds were under SFDR article 8 and 9, although their number has recently shot up. But we will soon be at the stage where asset managers must implement the SFDR level 2 rules. All of this is happening at the speed of light. “Meanwhile the clock is ticking as we try to get to net zero. We can play our part in this process by sharing best practice, for example on divestment policy or the extent of disclosures. Insurance is a more conservative industry than the fund industry. The products are',\n",
       " 'designed for the longer term – policy holders may be investing in the same product for multiple decades. Hence, it may take more work for insurance companies to gure out what to do about their existing products – but they will get there.” Other news Join our team as an intern / trainee (M/F/D) 15/01/2024LuxFLAG Sustainable Investment Week 2023 certi ed with the Green Business Events LogoLuxFLAG Sustainable Investment Week 2023: Shaping a Resilient World 19/09/2023 EN \\uf002 Search...Home LuxFLAG Labels\\uf078',\n",
       " 'Labelled Products Sustainability Knowledge Center What we do\\uf078 About us\\uf078']"
      ]
     },
     "execution_count": 298,
     "metadata": {},
     "output_type": "execute_result"
    }
   ],
   "source": [
    "#get the page contents in the pdfchunks and save in a list\n",
    "page_contents = []\n",
    "for i in range(len(PdfChunks)):\n",
    "    page_contents.append(PdfChunks[i].page_content)\n",
    "page_contents"
   ]
  },
  {
   "cell_type": "code",
   "execution_count": 299,
   "metadata": {},
   "outputs": [
    {
     "data": {
      "text/plain": [
       "20"
      ]
     },
     "execution_count": 299,
     "metadata": {},
     "output_type": "execute_result"
    }
   ],
   "source": [
    "len(page_contents)"
   ]
  },
  {
   "cell_type": "code",
   "execution_count": 300,
   "metadata": {},
   "outputs": [
    {
     "data": {
      "text/html": [
       "<div>\n",
       "<style scoped>\n",
       "    .dataframe tbody tr th:only-of-type {\n",
       "        vertical-align: middle;\n",
       "    }\n",
       "\n",
       "    .dataframe tbody tr th {\n",
       "        vertical-align: top;\n",
       "    }\n",
       "\n",
       "    .dataframe thead th {\n",
       "        text-align: right;\n",
       "    }\n",
       "</style>\n",
       "<table border=\"1\" class=\"dataframe\">\n",
       "  <thead>\n",
       "    <tr style=\"text-align: right;\">\n",
       "      <th></th>\n",
       "      <th>standard_type</th>\n",
       "      <th>document_title</th>\n",
       "      <th>document_text</th>\n",
       "    </tr>\n",
       "  </thead>\n",
       "  <tbody>\n",
       "    <tr>\n",
       "      <th>0</th>\n",
       "      <td>carborn disclosure project</td>\n",
       "      <td>Climate Disclosure Framework</td>\n",
       "      <td>A CLIMATE DISCLOSURE FRAMEWORK FOR SMALL AND M...</td>\n",
       "    </tr>\n",
       "    <tr>\n",
       "      <th>1</th>\n",
       "      <td>carborn disclosure project</td>\n",
       "      <td>Climate Disclosure Framework</td>\n",
       "      <td>A significant proportion of the world’s busine...</td>\n",
       "    </tr>\n",
       "    <tr>\n",
       "      <th>2</th>\n",
       "      <td>carborn disclosure project</td>\n",
       "      <td>Climate Disclosure Framework</td>\n",
       "      <td>report on their progress and ultimately reduce...</td>\n",
       "    </tr>\n",
       "    <tr>\n",
       "      <th>3</th>\n",
       "      <td>carborn disclosure project</td>\n",
       "      <td>Climate Disclosure Framework</td>\n",
       "      <td>nearing and that impacts will continue to occu...</td>\n",
       "    </tr>\n",
       "    <tr>\n",
       "      <th>4</th>\n",
       "      <td>carborn disclosure project</td>\n",
       "      <td>Climate Disclosure Framework</td>\n",
       "      <td>report on in their climate disclosures.OVERVIE...</td>\n",
       "    </tr>\n",
       "  </tbody>\n",
       "</table>\n",
       "</div>"
      ],
      "text/plain": [
       "                standard_type                document_title  \\\n",
       "0  carborn disclosure project  Climate Disclosure Framework   \n",
       "1  carborn disclosure project  Climate Disclosure Framework   \n",
       "2  carborn disclosure project  Climate Disclosure Framework   \n",
       "3  carborn disclosure project  Climate Disclosure Framework   \n",
       "4  carborn disclosure project  Climate Disclosure Framework   \n",
       "\n",
       "                                       document_text  \n",
       "0  A CLIMATE DISCLOSURE FRAMEWORK FOR SMALL AND M...  \n",
       "1  A significant proportion of the world’s busine...  \n",
       "2  report on their progress and ultimately reduce...  \n",
       "3  nearing and that impacts will continue to occu...  \n",
       "4  report on in their climate disclosures.OVERVIE...  "
      ]
     },
     "execution_count": 300,
     "metadata": {},
     "output_type": "execute_result"
    }
   ],
   "source": [
    "#read the standards csv file into a df\n",
    "df = pd.read_csv(csv_directory)\n",
    "df.head() #view first 5 rows"
   ]
  },
  {
   "cell_type": "code",
   "execution_count": 301,
   "metadata": {},
   "outputs": [
    {
     "data": {
      "text/html": [
       "<div>\n",
       "<style scoped>\n",
       "    .dataframe tbody tr th:only-of-type {\n",
       "        vertical-align: middle;\n",
       "    }\n",
       "\n",
       "    .dataframe tbody tr th {\n",
       "        vertical-align: top;\n",
       "    }\n",
       "\n",
       "    .dataframe thead th {\n",
       "        text-align: right;\n",
       "    }\n",
       "</style>\n",
       "<table border=\"1\" class=\"dataframe\">\n",
       "  <thead>\n",
       "    <tr style=\"text-align: right;\">\n",
       "      <th></th>\n",
       "      <th>standard_type</th>\n",
       "      <th>document_title</th>\n",
       "      <th>document_text</th>\n",
       "    </tr>\n",
       "  </thead>\n",
       "  <tbody>\n",
       "    <tr>\n",
       "      <th>9698</th>\n",
       "      <td>International Regulatory Strategy Group</td>\n",
       "      <td>Code of Conduct for ESG Ratings and Data Produ...</td>\n",
       "      <td>the ESG ratings and data products provider.(A)...</td>\n",
       "    </tr>\n",
       "    <tr>\n",
       "      <th>9699</th>\n",
       "      <td>International Regulatory Strategy Group</td>\n",
       "      <td>Code of Conduct for ESG Ratings and Data Produ...</td>\n",
       "      <td>assessed; and (ii) of the principal categories...</td>\n",
       "    </tr>\n",
       "    <tr>\n",
       "      <th>9700</th>\n",
       "      <td>International Regulatory Strategy Group</td>\n",
       "      <td>Code of Conduct for ESG Ratings and Data Produ...</td>\n",
       "      <td>Publishing terms of engagement describing how ...</td>\n",
       "    </tr>\n",
       "    <tr>\n",
       "      <th>9701</th>\n",
       "      <td>International Regulatory Strategy Group</td>\n",
       "      <td>Code of Conduct for ESG Ratings and Data Produ...</td>\n",
       "      <td>review. IOSCO recommendation 10 63. Entities s...</td>\n",
       "    </tr>\n",
       "    <tr>\n",
       "      <th>9702</th>\n",
       "      <td>International Regulatory Strategy Group</td>\n",
       "      <td>Code of Conduct for ESG Ratings and Data Produ...</td>\n",
       "      <td>coordinates for, all the entities’ sustainabil...</td>\n",
       "    </tr>\n",
       "  </tbody>\n",
       "</table>\n",
       "</div>"
      ],
      "text/plain": [
       "                                standard_type  \\\n",
       "9698  International Regulatory Strategy Group   \n",
       "9699  International Regulatory Strategy Group   \n",
       "9700  International Regulatory Strategy Group   \n",
       "9701  International Regulatory Strategy Group   \n",
       "9702  International Regulatory Strategy Group   \n",
       "\n",
       "                                         document_title  \\\n",
       "9698  Code of Conduct for ESG Ratings and Data Produ...   \n",
       "9699  Code of Conduct for ESG Ratings and Data Produ...   \n",
       "9700  Code of Conduct for ESG Ratings and Data Produ...   \n",
       "9701  Code of Conduct for ESG Ratings and Data Produ...   \n",
       "9702  Code of Conduct for ESG Ratings and Data Produ...   \n",
       "\n",
       "                                          document_text  \n",
       "9698  the ESG ratings and data products provider.(A)...  \n",
       "9699  assessed; and (ii) of the principal categories...  \n",
       "9700  Publishing terms of engagement describing how ...  \n",
       "9701  review. IOSCO recommendation 10 63. Entities s...  \n",
       "9702  coordinates for, all the entities’ sustainabil...  "
      ]
     },
     "execution_count": 301,
     "metadata": {},
     "output_type": "execute_result"
    }
   ],
   "source": [
    "df.tail() #view last 5 rows"
   ]
  },
  {
   "cell_type": "code",
   "execution_count": 302,
   "metadata": {},
   "outputs": [
    {
     "data": {
      "text/html": [
       "<div>\n",
       "<style scoped>\n",
       "    .dataframe tbody tr th:only-of-type {\n",
       "        vertical-align: middle;\n",
       "    }\n",
       "\n",
       "    .dataframe tbody tr th {\n",
       "        vertical-align: top;\n",
       "    }\n",
       "\n",
       "    .dataframe thead th {\n",
       "        text-align: right;\n",
       "    }\n",
       "</style>\n",
       "<table border=\"1\" class=\"dataframe\">\n",
       "  <thead>\n",
       "    <tr style=\"text-align: right;\">\n",
       "      <th></th>\n",
       "      <th>standard_type</th>\n",
       "      <th>document_title</th>\n",
       "      <th>document_text</th>\n",
       "    </tr>\n",
       "  </thead>\n",
       "  <tbody>\n",
       "    <tr>\n",
       "      <th>0</th>\n",
       "      <td>luxflag supporting sustainable finance</td>\n",
       "      <td>When the Insurance Industry Embraces Sustainab...</td>\n",
       "      <td>News &amp; PublicationsJune 9, 2022 When the Insur...</td>\n",
       "    </tr>\n",
       "    <tr>\n",
       "      <th>1</th>\n",
       "      <td>luxflag supporting sustainable finance</td>\n",
       "      <td>When the Insurance Industry Embraces Sustainab...</td>\n",
       "      <td>unit-linked life insurance products – and emer...</td>\n",
       "    </tr>\n",
       "    <tr>\n",
       "      <th>2</th>\n",
       "      <td>luxflag supporting sustainable finance</td>\n",
       "      <td>When the Insurance Industry Embraces Sustainab...</td>\n",
       "      <td>LuxFLAG – which appointed Isabelle Delas as CE...</td>\n",
       "    </tr>\n",
       "    <tr>\n",
       "      <th>3</th>\n",
       "      <td>luxflag supporting sustainable finance</td>\n",
       "      <td>When the Insurance Industry Embraces Sustainab...</td>\n",
       "      <td>Finland, Germany, Ireland, Monaco and Spain. T...</td>\n",
       "    </tr>\n",
       "    <tr>\n",
       "      <th>4</th>\n",
       "      <td>luxflag supporting sustainable finance</td>\n",
       "      <td>When the Insurance Industry Embraces Sustainab...</td>\n",
       "      <td>and the rest of the European regulation applie...</td>\n",
       "    </tr>\n",
       "  </tbody>\n",
       "</table>\n",
       "</div>"
      ],
      "text/plain": [
       "                            standard_type  \\\n",
       "0  luxflag supporting sustainable finance   \n",
       "1  luxflag supporting sustainable finance   \n",
       "2  luxflag supporting sustainable finance   \n",
       "3  luxflag supporting sustainable finance   \n",
       "4  luxflag supporting sustainable finance   \n",
       "\n",
       "                                      document_title  \\\n",
       "0  When the Insurance Industry Embraces Sustainab...   \n",
       "1  When the Insurance Industry Embraces Sustainab...   \n",
       "2  When the Insurance Industry Embraces Sustainab...   \n",
       "3  When the Insurance Industry Embraces Sustainab...   \n",
       "4  When the Insurance Industry Embraces Sustainab...   \n",
       "\n",
       "                                       document_text  \n",
       "0  News & PublicationsJune 9, 2022 When the Insur...  \n",
       "1  unit-linked life insurance products – and emer...  \n",
       "2  LuxFLAG – which appointed Isabelle Delas as CE...  \n",
       "3  Finland, Germany, Ireland, Monaco and Spain. T...  \n",
       "4  and the rest of the European regulation applie...  "
      ]
     },
     "execution_count": 302,
     "metadata": {},
     "output_type": "execute_result"
    }
   ],
   "source": [
    "\n",
    "#convert the standard name, standard title and page contents to a dataframe\n",
    "standard_name = ['luxflag supporting sustainable finance']  \n",
    "document_title = ['When the Insurance Industry Embraces Sustainability Labelling']  \n",
    "\n",
    "# Repeat standard_name and document_title to match the length of page_contents\n",
    "standard_name = standard_name * len(page_contents)\n",
    "document_title = document_title * len(page_contents)\n",
    "\n",
    "df2 = pd.DataFrame({\n",
    "    'standard_type': standard_name,\n",
    "    'document_title': document_title,\n",
    "    'document_text': page_contents\n",
    "})\n",
    "\n",
    "df2.head()"
   ]
  },
  {
   "cell_type": "code",
   "execution_count": 303,
   "metadata": {},
   "outputs": [],
   "source": [
    "# Merge df and df2\n",
    "df_merged = pd.concat([df, df2])\n",
    "\n",
    "# Write df_merged to a CSV file\n",
    "df_merged.to_csv(csv_directory, index=False)"
   ]
  },
  {
   "cell_type": "code",
   "execution_count": 304,
   "metadata": {},
   "outputs": [
    {
     "data": {
      "text/html": [
       "<div>\n",
       "<style scoped>\n",
       "    .dataframe tbody tr th:only-of-type {\n",
       "        vertical-align: middle;\n",
       "    }\n",
       "\n",
       "    .dataframe tbody tr th {\n",
       "        vertical-align: top;\n",
       "    }\n",
       "\n",
       "    .dataframe thead th {\n",
       "        text-align: right;\n",
       "    }\n",
       "</style>\n",
       "<table border=\"1\" class=\"dataframe\">\n",
       "  <thead>\n",
       "    <tr style=\"text-align: right;\">\n",
       "      <th></th>\n",
       "      <th>standard_type</th>\n",
       "      <th>document_title</th>\n",
       "      <th>document_text</th>\n",
       "    </tr>\n",
       "  </thead>\n",
       "  <tbody>\n",
       "    <tr>\n",
       "      <th>0</th>\n",
       "      <td>carborn disclosure project</td>\n",
       "      <td>Climate Disclosure Framework</td>\n",
       "      <td>A CLIMATE DISCLOSURE FRAMEWORK FOR SMALL AND M...</td>\n",
       "    </tr>\n",
       "    <tr>\n",
       "      <th>1</th>\n",
       "      <td>carborn disclosure project</td>\n",
       "      <td>Climate Disclosure Framework</td>\n",
       "      <td>A significant proportion of the world’s busine...</td>\n",
       "    </tr>\n",
       "    <tr>\n",
       "      <th>2</th>\n",
       "      <td>carborn disclosure project</td>\n",
       "      <td>Climate Disclosure Framework</td>\n",
       "      <td>report on their progress and ultimately reduce...</td>\n",
       "    </tr>\n",
       "    <tr>\n",
       "      <th>3</th>\n",
       "      <td>carborn disclosure project</td>\n",
       "      <td>Climate Disclosure Framework</td>\n",
       "      <td>nearing and that impacts will continue to occu...</td>\n",
       "    </tr>\n",
       "    <tr>\n",
       "      <th>4</th>\n",
       "      <td>carborn disclosure project</td>\n",
       "      <td>Climate Disclosure Framework</td>\n",
       "      <td>report on in their climate disclosures.OVERVIE...</td>\n",
       "    </tr>\n",
       "  </tbody>\n",
       "</table>\n",
       "</div>"
      ],
      "text/plain": [
       "                standard_type                document_title  \\\n",
       "0  carborn disclosure project  Climate Disclosure Framework   \n",
       "1  carborn disclosure project  Climate Disclosure Framework   \n",
       "2  carborn disclosure project  Climate Disclosure Framework   \n",
       "3  carborn disclosure project  Climate Disclosure Framework   \n",
       "4  carborn disclosure project  Climate Disclosure Framework   \n",
       "\n",
       "                                       document_text  \n",
       "0  A CLIMATE DISCLOSURE FRAMEWORK FOR SMALL AND M...  \n",
       "1  A significant proportion of the world’s busine...  \n",
       "2  report on their progress and ultimately reduce...  \n",
       "3  nearing and that impacts will continue to occu...  \n",
       "4  report on in their climate disclosures.OVERVIE...  "
      ]
     },
     "execution_count": 304,
     "metadata": {},
     "output_type": "execute_result"
    }
   ],
   "source": [
    "#read the csv file and view the first 5 rows and last 5 rows\n",
    "df = pd.read_csv(csv_directory)\n",
    "df.head()"
   ]
  },
  {
   "cell_type": "code",
   "execution_count": 305,
   "metadata": {},
   "outputs": [
    {
     "data": {
      "text/html": [
       "<div>\n",
       "<style scoped>\n",
       "    .dataframe tbody tr th:only-of-type {\n",
       "        vertical-align: middle;\n",
       "    }\n",
       "\n",
       "    .dataframe tbody tr th {\n",
       "        vertical-align: top;\n",
       "    }\n",
       "\n",
       "    .dataframe thead th {\n",
       "        text-align: right;\n",
       "    }\n",
       "</style>\n",
       "<table border=\"1\" class=\"dataframe\">\n",
       "  <thead>\n",
       "    <tr style=\"text-align: right;\">\n",
       "      <th></th>\n",
       "      <th>standard_type</th>\n",
       "      <th>document_title</th>\n",
       "      <th>document_text</th>\n",
       "    </tr>\n",
       "  </thead>\n",
       "  <tbody>\n",
       "    <tr>\n",
       "      <th>9718</th>\n",
       "      <td>luxflag supporting sustainable finance</td>\n",
       "      <td>When the Insurance Industry Embraces Sustainab...</td>\n",
       "      <td>Labelling goes through three layers of review ...</td>\n",
       "    </tr>\n",
       "    <tr>\n",
       "      <th>9719</th>\n",
       "      <td>luxflag supporting sustainable finance</td>\n",
       "      <td>When the Insurance Industry Embraces Sustainab...</td>\n",
       "      <td>amended or an additional asset class added, fo...</td>\n",
       "    </tr>\n",
       "    <tr>\n",
       "      <th>9720</th>\n",
       "      <td>luxflag supporting sustainable finance</td>\n",
       "      <td>When the Insurance Industry Embraces Sustainab...</td>\n",
       "      <td>determine which funds were under SFDR article ...</td>\n",
       "    </tr>\n",
       "    <tr>\n",
       "      <th>9721</th>\n",
       "      <td>luxflag supporting sustainable finance</td>\n",
       "      <td>When the Insurance Industry Embraces Sustainab...</td>\n",
       "      <td>designed for the longer term – policy holders ...</td>\n",
       "    </tr>\n",
       "    <tr>\n",
       "      <th>9722</th>\n",
       "      <td>luxflag supporting sustainable finance</td>\n",
       "      <td>When the Insurance Industry Embraces Sustainab...</td>\n",
       "      <td>Labelled Products Sustainability Knowledge Cen...</td>\n",
       "    </tr>\n",
       "  </tbody>\n",
       "</table>\n",
       "</div>"
      ],
      "text/plain": [
       "                               standard_type  \\\n",
       "9718  luxflag supporting sustainable finance   \n",
       "9719  luxflag supporting sustainable finance   \n",
       "9720  luxflag supporting sustainable finance   \n",
       "9721  luxflag supporting sustainable finance   \n",
       "9722  luxflag supporting sustainable finance   \n",
       "\n",
       "                                         document_title  \\\n",
       "9718  When the Insurance Industry Embraces Sustainab...   \n",
       "9719  When the Insurance Industry Embraces Sustainab...   \n",
       "9720  When the Insurance Industry Embraces Sustainab...   \n",
       "9721  When the Insurance Industry Embraces Sustainab...   \n",
       "9722  When the Insurance Industry Embraces Sustainab...   \n",
       "\n",
       "                                          document_text  \n",
       "9718  Labelling goes through three layers of review ...  \n",
       "9719  amended or an additional asset class added, fo...  \n",
       "9720  determine which funds were under SFDR article ...  \n",
       "9721  designed for the longer term – policy holders ...  \n",
       "9722  Labelled Products Sustainability Knowledge Cen...  "
      ]
     },
     "execution_count": 305,
     "metadata": {},
     "output_type": "execute_result"
    }
   ],
   "source": [
    "df.tail()"
   ]
  }
 ],
 "metadata": {
  "kernelspec": {
   "display_name": "Python 3",
   "language": "python",
   "name": "python3"
  },
  "language_info": {
   "codemirror_mode": {
    "name": "ipython",
    "version": 3
   },
   "file_extension": ".py",
   "mimetype": "text/x-python",
   "name": "python",
   "nbconvert_exporter": "python",
   "pygments_lexer": "ipython3",
   "version": "3.11.5"
  }
 },
 "nbformat": 4,
 "nbformat_minor": 2
}

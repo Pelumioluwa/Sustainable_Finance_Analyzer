{
 "cells": [
  {
   "cell_type": "code",
   "execution_count": 60,
   "metadata": {},
   "outputs": [],
   "source": [
    "#import libraries\n",
    "from pypdf import PdfReader\n",
    "from sklearn.metrics.pairwise import cosine_similarity\n",
    "from sklearn.metrics.pairwise import euclidean_distances\n",
    "from langchain_community.embeddings import HuggingFaceEmbeddings\n",
    "from sentence_transformers import SentenceTransformer\n",
    "import numpy as np"
   ]
  },
  {
   "cell_type": "code",
   "execution_count": 15,
   "metadata": {},
   "outputs": [
    {
     "name": "stdout",
     "output_type": "stream",
     "text": [
      "[' \\n1 \\n \\n \\nEuropean  SRI Transparency  Code  \\nThe European  SRI Transparency  Code  (the Code)  focuses  on SRI funds  distributed  publicly  in Europe  \\nand is designed  to cover  a range  of assets  classes,  such  as equity  and fixed  income.  \\nAll information  pertaining  to the European  SRI Transparency  Code  can be found  at the following  \\nwebsite:  www.eurosif.org . The Code comes  with  a Guidance  Manual  for fund  managers  on how  to \\nbest  use and respond  to the Code.  The present  version  of the Code  was approved  by the Board  of \\nEurosif  in Febru ary 2018 . \\nREVISION OF THE CODE  \\nIn 2017 the Code was updated to better reflect the continuing evolution of the European SRI market. \\nA Working Group was set up to facilitate revision of the Code in line with the latest developments in \\nthe industry and in view of the latest work carried ou t by experts at the European and global level.  \\nApplications to sign up  to the Code will now be in line with key elements of the recommendations \\nmad e by the Task Force on Climate -related Financial Disclosures (TCFD), Article 173 of the French TECV \\nAct and the latest recommendations made by the High -Level Group of Experts on Sus tainable Finance \\n(HLEG) in its  final report published in January 2018. Questions that are specifically designed to reflect \\nthose recommendations/legislation are indicated in the Code with footnotes.  \\n \\nTWO  KEY MOTIVATIONS  UNDERPIN  THIS  CODE  \\n1. The opportunity  for retail  SRI funds  to provide clarification  to investors  and other  \\nstakeholders  about their SRI approach in an easily  accessible  and comparable  format.  \\n2. Proactive  strengthen ing of  self-regulation  to contribute  to the development  and promotion  \\nof SRI funds  by setting  up a common  framework  for transparency  best  practices.  \\nGUIDING  PRINCIPLE  \\nSignatories  to the Code  should  be open  and honest  and should disclose  accurate,  adequate  and timely  \\ninformation  to enable  stakeholders,  especially  consumers,  to understand  the ESG policies  and \\npractices  of the fund.  \\n \\nCOMMITMENTS  BY SIGNATORIES  \\n• The order  and exact  wording  of the questions  should  be followed ; \\n• Responses  should  be informative  and clear,  and the resources  and methodologies  used  should  \\nbe described  in as much  detail  and as precis ely as possible;  \\n• Funds  should  report  data  in the currency  that they  use for other  reporting  purposes;  \\n• Reasons  preventing  the fund  from  providing  all or part of the information  to a given  question  \\nshould  be clearly  stated  and,  in such  case s, signatories  should  state  when  they  will be able  \\nto answer  the question;  ', ' \\n2 \\n \\n• Responses  should  be updated  at least  on an annual  basis  and should  have  a precise  publication  \\ndate;  \\n• Responses  to the Code  should  be easily  accessible  from  the website of the fund  and/or  of the \\nfund  manage r. In any case,  signatories  should  make  it clear  where  to find the information  \\nrequired  by the Code;  \\n• Signatories  are solely  responsible  for the answers  to the questions,  and should  state  this in \\ntheir  response . \\n Statement  of Commitment  \\n \\nComplete/modify  the below  section  accordingly  \\n \\nSustainable  and Responsible  Investing  is an essential  part of the strategic  positioning  and behaviour  \\nof COMPANYXXX.  We have  been  involved  in SRI since  YEARXXX  and welcome  the European  SRI \\nTransparency  Code.  \\nThis is our first/second /XXXth statement  of commitment  and covers  the period  XXX to XXX.  Our full \\nresponse  to the European  SRI Transparency  Code  can be accessed  below  and is available  in the annual  \\nreport  of the retail  funds  and on our website.  \\n \\nCompliance  with  the Transparency  Code   \\n \\nFUNDMANAGERXXX  is committed  to transparency  and we believe  that we are as transparent  as \\npossible  given  the regulatory  and competitive  environments  that exist  in the countries  in which  we \\noperate.  COMPANYXX  meets  the full recommendations  of the European  SRI Transparency  Code  with  \\nthe exception  of QUESTIONXX  & YY. (If the full recommendations  are not met,  please  state  if and \\nwhen  you hope  to comply  with  the questions  you cannot  answer  at this time).  \\n \\nDATEXXX  \\n \\n \\nEurosif  classification  of Sustainable  and Responsible  Investment1 strategies   \\n \\nSustainability  Themed  Investment : investment  in themes  or assets  linked  to the development  of \\nsustainability.  Thematic  funds  focus  on specific  or multiple  issues  related  to ESG.  Sustainability  \\nThemed  Investments  inherently  contribute  to addressing  social  and/or  environmental  challenges , \\nsuch  as climate  change,  eco-efficiency  and health.  Funds  are required  to perform  an ESG analysis  or \\nscreen ing of investments  in order  to come under this category . \\nBest -in-Class  Investment  Selection : approach  according to which  leading  or best -performing  \\ninvestments  within  a universe,  category  or class  are selected  or weighted  based  on ESG criteria.  This \\napproach  involves  the selection  or weighting  of the best -performing  or most  improved  companies  or \\n                                                           \\n1 Sustainable and responsible investment (”SRI”) is a long -term oriented investment approach which \\nintegrates ESG factors in the research, analysis and selection process of securities within an investment \\nportfolio. It combines fundamental analysis and enga gement with an evaluation of ESG factors in order to \\nbetter capture long -term returns for investors and to benefit society by influencing the behaviour of \\ncompanies. Ref. Eurosif 2016  ', ' \\n3 \\n \\nassets  as identified  by ESG analysi s within  a defined  investment  universe.  This approach  includes  best-\\nin-class,  best -in-universe  and best -effort.  \\nNorms -Based  Screening : screening  of investments  according  to their  compliance  with  international  \\nstandards  and norms.  This approach  involves  the screening  of investments  based  on international  \\nnorms  or combinations  of norms  covering  ESG factors.  International  norms  on ESG are those  defined  \\nby international  bodies , such  as the United  Nations  (UN).   \\nExclusion  of Holdings  from  Investment  Universe : an approach  that excludes  specific  investments  or \\nclasses  of investment  from  the investible  universe , such  as companies,  sectors  or countries.  This \\napproach  systematically  excludes  companies,  sectors  or countries  from  the permissible  investment  \\nuniverse  if they are involved  in certain  activities  based  on specific  criteria.  Common  criteria  include  \\nweapons,  pornography,  tobacco  and animal  testing.  Exclusions  can be imposed  at the individual  fund  \\nor mandate  level,  but also increasingly  at the asset  manager  or asset  owner  level,  across  the entire  \\nproduct  range  of assets.  This approach  is also referred  to as ethical  or value s-based  exclusion,  as \\nexclusion  criteria  are typically  based  on the choices  made  by asset  managers  or asset  owners.   \\nIntegration  of ESG Factors  into Financial  Analysis : the explicit  inclusion  by asset  managers  of ESG risks  \\nand opportunities  in traditional  financial  analysis  and investment  decisions  based  on a systematic  \\nprocess  and appropriate  research  sources.  This category  covers  explicit  consideration  of ESG factors  \\nalongside  financial  factors  in the mainstream  anal ysis of investments.  The integration  process  focuses  \\non the potential  impact  of ESG issues  on company  financials  (positive  and negative),  which  in turn  may  \\naffect  the investment  decision.  \\nEngagement  and Voting  on Sustainability  Matters : engagement  activities  and active  ownership  \\nthrough  voting  of shares  and engagement  with  companies  on ESG matters.  This is a long -term  process  \\nthat seek s to influence  behaviour  or increase  disclosure.  Engagement  and voting  on corporate  \\ngovernance  are necessary,  but are not sufficient  in themselves for inclusion in this category . \\nImpact  Investing : impact  Investments  are investments  in companies,  organisations  and funds  with  the \\nintention  of generat ing a  social  and environmental  impact  alongside  a financial  return.  Impact  \\ninvestments  can be made  in both  emerging  and developed  markets  and target  a range  of returns  from  \\nbelow  market -to-market  rate,  depending  upon  the circumstances2. Investments  are often  project -\\nspecific  and distinct  from  philanthropy,  as the investor  retains  ownership  of the asset  and expects  a \\npositive  financial  return.  Impact  invest ing includes  microfinance,  community  investing,  social  \\nbusiness/entrepreneurship  funds  and French  fonds  solidaires . \\nContent s \\n1. List of funds covered by the Code  \\n2. General  information  about  the fund management company  \\n3. General  information  about  the SRI fund (s) that come under the scope of the  Code  \\n4. Investment  process  \\n5. ESG contr ols \\n6. Impact  measures  and ESG reporting  \\n                                                           \\n2 Global Impact Investing Network (GIIN), “What is Impact Investing?”, http://www.thegiin.org/cgi -\\nbin/iowa/investing/index.html , 2012  ', ' \\n4 \\n \\n \\n1. List of funds  covered by the Code   \\n \\n \\nName  of the fund(s):  \\n \\nDominant/preferred  \\nSRI strategy  \\n(Please  choose  a maximum  of \\n2 strategies)  Asset  class  Exclusions  \\nstandards  and \\nnorms  Fund  capital  \\nas at \\n31 Decembe\\nr Other  labels  Links  to relevant  \\ndocuments  \\n□ Best -in-Class  Investment  \\nsection  \\n□ Engagement  & Voting  \\n□ ESG Integration  \\n□ Exclusions  \\n□ Impact  Investing  \\n□ Norms -Based  Screening  \\n✓ Leading  to exclusions  \\n✓ Leading  to risk \\nmanagement  \\nanalysis/engagement  \\n□ Sustainability  Themed  Passively  \\nmanaged  \\n□Passive  \\ninvesting  – core  \\nbenchmark : \\nspecify  the index  \\ntracking  \\n□Passive  \\ninvesting  –\\nESG/SRI  \\nbenchmark:  \\nspecify  the index  \\ntracking  \\n \\nActively  \\nmanaged  \\n□ Shares  in a \\neuro  area  \\ncountry  \\n□ Shares  in an EU \\ncountry  \\n□ International  \\nshares  \\n□Bonds  and \\nother  debt  \\nsecurities  \\ndenominated  in \\neuro  \\n□ International  \\nbonds  and other  \\ndebt  securities  \\n□Mon etary  \\nassets  \\n□ Short -term  \\nmonetary  assets  \\n□ Structured  \\nfunds   □ Controversial  \\nweapons  \\n□ Alco hol \\n□ Tobacco \\n□ Arms   \\n□Nuclear  \\npower  \\n□ Human  rights  \\n□ Labour  rights  \\n□ Gambling  \\n□Pornography  \\n□ Animal  \\ntesting  \\n□ Conflict  \\nminerals  \\n□ Biodiversity  \\n□ \\nDeforestation  \\n□ CO2 \\nintensive  \\n(including  coal)  \\n□ Genetic  \\nengineering  \\n□ Other  (please  \\nspecify)  \\n□ Global \\nCompact  \\n□ OECD \\nGuidelines for \\nMNCs  \\n□ ILO \\nConventions  \\n□ Other (please \\nspecify)  \\n To be filled  \\nout with  a \\nnumber  of \\nAuM  □ French  SRI \\nlabel  \\n□ French  \\nTEEC  label  \\n□ French  \\nCIES  label  \\n□ Luxflag  \\nLabel  \\n□ FNG  Label   \\n□ Austrian  \\nEcolabel   \\n□ Other  \\n(please  \\nspecify)  - (KIID ) \\n- Prospectus   \\n-Management  \\nreport  \\n-Financial  and \\nnon-financial  \\nreporting  \\n-Corporate  \\npresentations   \\n- Other  (please  \\nspecify)  \\n \\n \\n \\n \\n \\n \\n \\n \\n \\n ', \" \\n5 \\n \\n \\n2. General  information  about  the fund  management  company   \\n \\n2.1. Name  of the fund  management  company  that manag es the applicant fund(s)  \\n2.2. What  are the company’s  track record  and principles  when  it comes  to integrating  SRI into \\nits process es? \\nPlease  provide  a hyperlink  to any of the company’s  sustainable  investment  webpages . \\n \\n2.3. How  does  the company  formalise  its sustainable  investment  process?  \\nPlease  provide  a link to the sustainable  investment  policy . \\nPlease  provide  a link to the voting  rights  policy . \\nPlease  provide  a link to the engagement  policy3.  \\n2.4. How  are ESG risks  and opportunities  – including  those  linked  to climate  change  – \\nunderstood/taken  into account  by company?4 \\n \\n2.5. How  many  employees  are directly  involved  in the company’s  sustainable  investment  \\nactivity?   \\n2.6. Is the company  involved  in any RI initiatives?  \\nGeneral  Initiatives   Environmental/Climate  \\nInitiatives   Social  Initiatives   Governance  Initiatives   \\n□ ECCR – Ecumenical \\nCouncil for Corporate \\nResponsibility  \\n□ EFAMA RI WG  \\n□ European \\nCommission's High -\\nLevel Expert Group on \\nSustainable Finance  \\n□ ICCR – Interfaith \\nCenter on Corporate \\nResponsibility  \\n□ National Asset \\nManager Association (RI \\nGroup)  \\n□ PRI - Principles For \\nResponsible Investment  \\n□ SIFs - Sustainable \\nInvestment Fora  \\n□ Other  (please  specify)  \\n □ CDP  – Carbon \\nDisclosure Project (please \\nspecify carbon, forest, \\nwater  etc.) \\n□ Climate Bond Initiative  \\n□ Green Bond Principles  \\n□ IIGCC – Institutional \\nInvestors Group on \\nClimate Change  \\n□ Montreal Carbon \\npledge  \\n□ Paris Pledge for Action  \\n□ Portfolio \\nDecarbonizatio n \\nCoalition  \\n□ Other  (please  specify)  \\n □ Access to Medicine \\nFoundation  \\n□ Access to Nutrition \\nFoundation  \\n□ Accord on Fire and \\nBuilding Safety in \\nBangladesh  \\n□ Other  (please  specify)  \\n □ ICGN  – International  \\nCorporate  Governance  \\nNetwork  \\n□ Other  (please  specify)  \\n \\n2.7. What  is the total  number  of SRI assets  under  the company’s  management?   \\n \\n3. General  information  about  the SRI fund (s) that come under the scope of  the Code   \\n                                                           \\n3 Reference to Article 173 of the French TECV Act and the HLEG recommendations on INVESTOR DUTIES  \\n4 Reference to Article 173 of the French TECV Act and the TCFD recommendations (risks and opportunities \\nsection)  \", ' \\n6 \\n \\n \\n3.1. What  is (are)  the fund(s)  aiming  to achieve  by integrating  ESG factors?  \\n \\n3.2. What  internal or external  resources  are used  for ESG evaluation  of the issuers  who  make  \\nup the investment  universe  of the fund(s) ?  \\n \\n3.3. What  ESG criteria  are taken  into account  by the fund (s)? \\n \\n3.4. What  principles  and criteria  linked  to climate  change  are taken  into account  in the fund (s)?5  \\n \\n3.5. What  is the ESG analysis and evaluation methodology of the fund  manager/fund  \\nmanagement  company  (how  is the investment  universe  built,  what rating  scale  is used \\netc.)?  \\n \\n3.6. How  often  is the ESG evaluation  of the issuers reviewed?  How  are any controversies  \\nmanaged?  \\n \\n4. Investment  process  \\n \\n4.1. How  are the results  of the ESG research  integrated  into portfolio  construction ? \\n \\n4.2. How  are criteria  specific  to climate  change  integrated  into portfolio  construction ?6  \\n \\n4.3. How  are the issuers  that  are present  in the portfolio , but not subject  to ESG analysis  \\nevaluated  (not  including  mutual  funds)?7 \\nPlease  specify  how  much  the funds  can hold.  \\n \\n4.4. Has the ESG evaluation  or investment  process  changed  in the last 12 months?  \\n \\n4.5. Is a part  of the fund(s)  invested  in entities  pursuing  strong  social  goals /social  enterprises ? \\n \\n4.6. Does (do)  the fund (s) engage  in securities  lending  activities?  \\nIf so, \\n(i) is there  a policy  in place  to recall  the securities  so as to exercise  the voting  rights?  \\n(ii) does  the p rocess  for selecting the counterparty(ies)  integrate  ESG criteria?  \\n                                                           \\n5 Reference to Article 173 of the French TECV Act see paragraphs 3 and 4 of Article D.533 -16-1 of Chapter III of \\nthe French Legal Code):  \\nhttps://www.legifrance.gouv.fr/affichCodeArticle.do?cidTexte=LEGITEXT000006072026&idArticle=LEGIARTI00\\n0031793697  \\n6 Reference to Article 173 of the French TE CV Act and HLEG recommendations on DISCLOSURE  \\n7 Reference to Article 173 of the French TECV Act and the TCFD recommendations (delivering on investor and \\nstakeholder demands for climate -related information)  ', ' \\n7 \\n \\n \\n4.7. Does (do)  the fund (s) use derivative  instruments?   \\nIf so, please  describe   \\n(i) their  nature ; \\n(ii) their  objectives ; \\n(iii) the potential  limits  in terms  of exposure ; \\n(iv) if appropriate,  their  impact  on the SRI nature  of the fund (s). \\n \\n4.8. Does (do) the fund( s) invest  in mutual  funds?   \\nIf so, how  do you ensure  compatibility  between  the policy for selecting mutual  fund s and the \\nSRI policy  of the fund(s) ? How  many  funds can be held?  \\n \\n5. ESG controls  \\n \\n5.1. What  internal  and/or external  control  mechanisms  are in place  to ensure  compliance  of \\nthe portfolio  with  the ESG rules  on managing  the fund (s) as defined   in section 4?8  \\n  \\n6. Impact measures and ESG reporting  \\n \\n6.1. How  is the ESG quality  of the fund(s)  assessed?   \\n \\n6.2. What  ESG indicators  are used  by the fund (s)?9  \\n \\n6.3. What  communication  resources  are used to provide  investors  with  information  about  the \\nSRI management of the fund (s)?  \\n \\n6.4. Does  the fund  management  company  publish  the results  of its voting  and engagement  \\npolicies?10  \\nIf so, please  include  links  to the relevant  activity  reports.   \\n  \\n \\n                                                           \\n8 Reference to Article 173 of the French TECV Act  \\n9 Reference to Article 173 of the French TECV Act  \\n10 Reference to Article 173 of the French TECV Act and the HLEG recommendations on GOVERNANCE  ']\n"
     ]
    }
   ],
   "source": [
    "#read pdf file\n",
    "EurosifTanspCode = []\n",
    "\n",
    "reader = PdfReader(\"/Users/pelumioluwaabiola/Downloads/Eurosif Transparency-Code-4.0.pdf\")\n",
    "number_of_pages = len(reader.pages)\n",
    "page = reader.pages[2]\n",
    "text = page.extract_text()\n",
    "\n",
    "for i in range(0, number_of_pages):\n",
    "    page = reader.pages[i]\n",
    "    text = page.extract_text()\n",
    "    EurosifTanspCode.append(text)\n",
    "\n",
    "print(EurosifTanspCode)"
   ]
  },
  {
   "cell_type": "code",
   "execution_count": 16,
   "metadata": {},
   "outputs": [
    {
     "name": "stdout",
     "output_type": "stream",
     "text": [
      "[\"Do not harm\\nWe check whether the manager of the \\x00nancial product does not use your money to\\ninvest in companies or governments that are involved in activities and practices\\nthat are generally considered as very harmful.\\nESG due diligence using the ‘double materiality' perspective\\nEach investment is screened for its potential positive or negative impact on sustainability\\nissues like nature, labour conditions and good governance (ESG). Additionally, the\\npossible impact of sustainability events like climate change, social unrest or legal\\ncontroversies on the performance of the investments, is analysed.\\nWe exclude certain sectors\\nNo money for weapons, tobacco, coal, unconventional oil & gas and laggard oil & gas and\\nelectricity utilities.\\nInternational norms and standards\\nInvestee companies must not violate high-level normative frameworks like the UN Global\\nCompact, the UN Guiding Principles on Business and Human Rights, the OECD\\nGuidelines for Multinational Enterprises, and the ILO Conventions.\\nPositive impact\\nGoing beyond the minimal requirement of ‘do no harm’, the product manager shall\\nuse your money to invest in projects, companies or governments with a positive\\ncontribution to society. This is done by following at least one of these additional\\nstrategies.HOME›THE LABEL›QUALITY STANDARD\\n1\\n2THE LABEL\\nThe Quality Standard\\nfor sustainable investing\\nThe Quality Standard stipulates a set of portfolio and process level\\nrequirements. A \\x00nancial product should at least ful\\x00l these\\nrequirements to receive the label. They are a mix of exclusion, impact,\\nengagement, transparency and accountability.\\nIndependent supervision by the Central Labelling Agency (CLA) protects\\nthe integrity of the Quality Standard and the label.\\nENNLFR\\nHOMETHE LABELPRODUCTSAPPLYABOUT USBLOGCONTACT\\nThis website uses cookies\\nThis website uses cookies to improve the website. In\\naddition to necessary cookies, so that the website works\\nproperly, we also place Analytical cookies to optimize\\nyour experience on our site. Third parties and social\\nnetworks can also place cookies. We ask your\\npermission for those cookies.\\nCustomize\\nDeclineAccept all\", \"Best-in-class or Best-in-universe\\nInvesting in companies with the highest ESG ratings, overall, per industry, sector or\\nregion.\\nSustainability themed investing\\nInvesting in companies or sectors related to a speci\\x00c sustainability theme, e.g. clean\\nenergy, health, sustainable agriculture, diversity.\\nImpact investing\\nInvesting in companies or projects dedicated to creating concrete and measurable\\npositive social or environmental impact through their products or services.\\nOutperforming a benchmark\\nBuilding the investment portfolio in such a way that overall it scores better than a\\nbenchmark on one or more ESG indicators, e.g. carbon intensity.\\nOverweighting and underweighting of positions\\nUnderweighting investments with lower ESG scores and overweighting investments with\\nhigher ESG scores in the portfolio, relative to the product's benchmark.\\nEngagement\\nEngaging in a dialogue with companies and/or exercising voting rights in the companies\\ninvested in.\\nHowever, following this strategy as the only additional strategy is not su\\x00cient.\\nFor investments in the fossil fuel sector, engagement is mandatory.\\nSolidarity or charity\\nDonating part of the return of the portfolio or of the management fees to a charity or a\\ngood cause.\\nHowever, following this strategy as the only additional strategy is not su\\x00cient.\\nOther strategy\\nAnother way to favour more sustainable issuers in the selection process, if recognized by\\nthe CLA.\\nTransparency\\nFurthermore, the product manager needs to be transparent about its investment\\npolicies and publish on its website how and which harmful activities are avoided, and\\nhow positive impact is pursued. This will help you to determine if the policies\\ngoverning the product are in line with your personal convictions.\\nSignatories of the Quality Standard3\\nThis website uses cookies\\nThis website uses cookies to improve the website. In\\naddition to necessary cookies, so that the website works\\nproperly, we also place Analytical cookies to optimize\\nyour experience on our site. Third parties and social\\nnetworks can also place cookies. We ask your\\npermission for those cookies.\", \"Signatories commit that all products they market in Belgium as\\n'sustainable', have obtained or are in the process of obtaining the\\nTowards Sustainability label. Of course, Signatories can also use\\nother labels in addition to the Towards Sustainability label.\\nBecoming a Signatory is a voluntary additional commitment on\\nthe level of the product provider. It is not a requirement for obtaining\\nlabels for individual products.\\nText of the Quality Standard\\nConsult the full text of the new 2023 version of the Quality\\nStandard (QS23). This text consolidates and updates all previous\\nversions and will come into e\\x00ect in January 2024 for newly labelled\\nportfolios and in June 2024 for currently labelled portfolios.\\nConsult the full text of the original 2019 Quality Standard (QS19)\\nincluding all detailed criteria. Or the technical document with the\\n2021 revisions (QS21) to the original text. Currently, all labelled\\nproducts are aligned with QS21.\\nHave a \\x00nancial product that needs labelling? APPLY NOW\\nThe Label Products About CLA\\nPrivacy policyCookie policyAbout the label\\nQuality Standard\\nThird-party veri\\x00cationProduct overview\\nApply for the labelThe CLA\\nBoard of directors\\nEligibility commission\\nThis website uses cookies\\nThis website uses cookies to improve the website. In\\naddition to necessary cookies, so that the website works\\nproperly, we also place Analytical cookies to optimize\\nyour experience on our site. Third parties and social\\nnetworks can also place cookies. We ask your\\npermission for those cookies.\"]\n"
     ]
    }
   ],
   "source": [
    "#read pdf file\n",
    "towardsSustainCode = []\n",
    "\n",
    "reader = PdfReader(\"/Users/pelumioluwaabiola/Downloads/towardssustainability-be-the-label-quality-standard.pdf\")\n",
    "number_of_pages = len(reader.pages)\n",
    "page = reader.pages[2]\n",
    "text = page.extract_text()\n",
    "\n",
    "for i in range(0, number_of_pages):\n",
    "    page = reader.pages[i]\n",
    "    text = page.extract_text()\n",
    "    towardsSustainCode.append(text)\n",
    "\n",
    "print(towardsSustainCode)"
   ]
  },
  {
   "cell_type": "code",
   "execution_count": 31,
   "metadata": {},
   "outputs": [],
   "source": [
    "#clean the pdf\n",
    "def clean_pdf(text):\n",
    "    #remove '\\n' (newlines)\n",
    "    text = text.replace('\\n', ' ')\n",
    "    # Remove '\\x0c' (form feed/new page)\n",
    "    text = text.replace('\\x0c', ' ')\n",
    "    # Remove '\\xa0' (non-breaking space)\n",
    "    text = text.replace('\\xa0', ' ')\n",
    "    #remove all unnecessary spaces\n",
    "    text = ' '.join(text.split())\n",
    "\n",
    "    return text\n"
   ]
  },
  {
   "cell_type": "code",
   "execution_count": 33,
   "metadata": {},
   "outputs": [
    {
     "data": {
      "text/plain": [
       "['1 European SRI Transparency Code The European SRI Transparency Code (the Code) focuses on SRI funds distributed publicly in Europe and is designed to cover a range of assets classes, such as equity and fixed income. All information pertaining to the European SRI Transparency Code can be found at the following website: www.eurosif.org . The Code comes with a Guidance Manual for fund managers on how to best use and respond to the Code. The present version of the Code was approved by the Board of Eurosif in Febru ary 2018 . REVISION OF THE CODE In 2017 the Code was updated to better reflect the continuing evolution of the European SRI market. A Working Group was set up to facilitate revision of the Code in line with the latest developments in the industry and in view of the latest work carried ou t by experts at the European and global level. Applications to sign up to the Code will now be in line with key elements of the recommendations mad e by the Task Force on Climate -related Financial Disclosures (TCFD), Article 173 of the French TECV Act and the latest recommendations made by the High -Level Group of Experts on Sus tainable Finance (HLEG) in its final report published in January 2018. Questions that are specifically designed to reflect those recommendations/legislation are indicated in the Code with footnotes. TWO KEY MOTIVATIONS UNDERPIN THIS CODE 1. The opportunity for retail SRI funds to provide clarification to investors and other stakeholders about their SRI approach in an easily accessible and comparable format. 2. Proactive strengthen ing of self-regulation to contribute to the development and promotion of SRI funds by setting up a common framework for transparency best practices. GUIDING PRINCIPLE Signatories to the Code should be open and honest and should disclose accurate, adequate and timely information to enable stakeholders, especially consumers, to understand the ESG policies and practices of the fund. COMMITMENTS BY SIGNATORIES • The order and exact wording of the questions should be followed ; • Responses should be informative and clear, and the resources and methodologies used should be described in as much detail and as precis ely as possible; • Funds should report data in the currency that they use for other reporting purposes; • Reasons preventing the fund from providing all or part of the information to a given question should be clearly stated and, in such case s, signatories should state when they will be able to answer the question;',\n",
       " '2 • Responses should be updated at least on an annual basis and should have a precise publication date; • Responses to the Code should be easily accessible from the website of the fund and/or of the fund manage r. In any case, signatories should make it clear where to find the information required by the Code; • Signatories are solely responsible for the answers to the questions, and should state this in their response . Statement of Commitment Complete/modify the below section accordingly Sustainable and Responsible Investing is an essential part of the strategic positioning and behaviour of COMPANYXXX. We have been involved in SRI since YEARXXX and welcome the European SRI Transparency Code. This is our first/second /XXXth statement of commitment and covers the period XXX to XXX. Our full response to the European SRI Transparency Code can be accessed below and is available in the annual report of the retail funds and on our website. Compliance with the Transparency Code FUNDMANAGERXXX is committed to transparency and we believe that we are as transparent as possible given the regulatory and competitive environments that exist in the countries in which we operate. COMPANYXX meets the full recommendations of the European SRI Transparency Code with the exception of QUESTIONXX & YY. (If the full recommendations are not met, please state if and when you hope to comply with the questions you cannot answer at this time). DATEXXX Eurosif classification of Sustainable and Responsible Investment1 strategies Sustainability Themed Investment : investment in themes or assets linked to the development of sustainability. Thematic funds focus on specific or multiple issues related to ESG. Sustainability Themed Investments inherently contribute to addressing social and/or environmental challenges , such as climate change, eco-efficiency and health. Funds are required to perform an ESG analysis or screen ing of investments in order to come under this category . Best -in-Class Investment Selection : approach according to which leading or best -performing investments within a universe, category or class are selected or weighted based on ESG criteria. This approach involves the selection or weighting of the best -performing or most improved companies or 1 Sustainable and responsible investment (”SRI”) is a long -term oriented investment approach which integrates ESG factors in the research, analysis and selection process of securities within an investment portfolio. It combines fundamental analysis and enga gement with an evaluation of ESG factors in order to better capture long -term returns for investors and to benefit society by influencing the behaviour of companies. Ref. Eurosif 2016',\n",
       " '3 assets as identified by ESG analysi s within a defined investment universe. This approach includes best- in-class, best -in-universe and best -effort. Norms -Based Screening : screening of investments according to their compliance with international standards and norms. This approach involves the screening of investments based on international norms or combinations of norms covering ESG factors. International norms on ESG are those defined by international bodies , such as the United Nations (UN). Exclusion of Holdings from Investment Universe : an approach that excludes specific investments or classes of investment from the investible universe , such as companies, sectors or countries. This approach systematically excludes companies, sectors or countries from the permissible investment universe if they are involved in certain activities based on specific criteria. Common criteria include weapons, pornography, tobacco and animal testing. Exclusions can be imposed at the individual fund or mandate level, but also increasingly at the asset manager or asset owner level, across the entire product range of assets. This approach is also referred to as ethical or value s-based exclusion, as exclusion criteria are typically based on the choices made by asset managers or asset owners. Integration of ESG Factors into Financial Analysis : the explicit inclusion by asset managers of ESG risks and opportunities in traditional financial analysis and investment decisions based on a systematic process and appropriate research sources. This category covers explicit consideration of ESG factors alongside financial factors in the mainstream anal ysis of investments. The integration process focuses on the potential impact of ESG issues on company financials (positive and negative), which in turn may affect the investment decision. Engagement and Voting on Sustainability Matters : engagement activities and active ownership through voting of shares and engagement with companies on ESG matters. This is a long -term process that seek s to influence behaviour or increase disclosure. Engagement and voting on corporate governance are necessary, but are not sufficient in themselves for inclusion in this category . Impact Investing : impact Investments are investments in companies, organisations and funds with the intention of generat ing a social and environmental impact alongside a financial return. Impact investments can be made in both emerging and developed markets and target a range of returns from below market -to-market rate, depending upon the circumstances2. Investments are often project - specific and distinct from philanthropy, as the investor retains ownership of the asset and expects a positive financial return. Impact invest ing includes microfinance, community investing, social business/entrepreneurship funds and French fonds solidaires . Content s 1. List of funds covered by the Code 2. General information about the fund management company 3. General information about the SRI fund (s) that come under the scope of the Code 4. Investment process 5. ESG contr ols 6. Impact measures and ESG reporting 2 Global Impact Investing Network (GIIN), “What is Impact Investing?”, http://www.thegiin.org/cgi - bin/iowa/investing/index.html , 2012',\n",
       " '4 1. List of funds covered by the Code Name of the fund(s): Dominant/preferred SRI strategy (Please choose a maximum of 2 strategies) Asset class Exclusions standards and norms Fund capital as at 31 Decembe r Other labels Links to relevant documents □ Best -in-Class Investment section □ Engagement & Voting □ ESG Integration □ Exclusions □ Impact Investing □ Norms -Based Screening ✓ Leading to exclusions ✓ Leading to risk management analysis/engagement □ Sustainability Themed Passively managed □Passive investing – core benchmark : specify the index tracking □Passive investing – ESG/SRI benchmark: specify the index tracking Actively managed □ Shares in a euro area country □ Shares in an EU country □ International shares □Bonds and other debt securities denominated in euro □ International bonds and other debt securities □Mon etary assets □ Short -term monetary assets □ Structured funds □ Controversial weapons □ Alco hol □ Tobacco □ Arms □Nuclear power □ Human rights □ Labour rights □ Gambling □Pornography □ Animal testing □ Conflict minerals □ Biodiversity □ Deforestation □ CO2 intensive (including coal) □ Genetic engineering □ Other (please specify) □ Global Compact □ OECD Guidelines for MNCs □ ILO Conventions □ Other (please specify) To be filled out with a number of AuM □ French SRI label □ French TEEC label □ French CIES label □ Luxflag Label □ FNG Label □ Austrian Ecolabel □ Other (please specify) - (KIID ) - Prospectus -Management report -Financial and non-financial reporting -Corporate presentations - Other (please specify)',\n",
       " \"5 2. General information about the fund management company 2.1. Name of the fund management company that manag es the applicant fund(s) 2.2. What are the company’s track record and principles when it comes to integrating SRI into its process es? Please provide a hyperlink to any of the company’s sustainable investment webpages . 2.3. How does the company formalise its sustainable investment process? Please provide a link to the sustainable investment policy . Please provide a link to the voting rights policy . Please provide a link to the engagement policy3. 2.4. How are ESG risks and opportunities – including those linked to climate change – understood/taken into account by company?4 2.5. How many employees are directly involved in the company’s sustainable investment activity? 2.6. Is the company involved in any RI initiatives? General Initiatives Environmental/Climate Initiatives Social Initiatives Governance Initiatives □ ECCR – Ecumenical Council for Corporate Responsibility □ EFAMA RI WG □ European Commission's High - Level Expert Group on Sustainable Finance □ ICCR – Interfaith Center on Corporate Responsibility □ National Asset Manager Association (RI Group) □ PRI - Principles For Responsible Investment □ SIFs - Sustainable Investment Fora □ Other (please specify) □ CDP – Carbon Disclosure Project (please specify carbon, forest, water etc.) □ Climate Bond Initiative □ Green Bond Principles □ IIGCC – Institutional Investors Group on Climate Change □ Montreal Carbon pledge □ Paris Pledge for Action □ Portfolio Decarbonizatio n Coalition □ Other (please specify) □ Access to Medicine Foundation □ Access to Nutrition Foundation □ Accord on Fire and Building Safety in Bangladesh □ Other (please specify) □ ICGN – International Corporate Governance Network □ Other (please specify) 2.7. What is the total number of SRI assets under the company’s management? 3. General information about the SRI fund (s) that come under the scope of the Code 3 Reference to Article 173 of the French TECV Act and the HLEG recommendations on INVESTOR DUTIES 4 Reference to Article 173 of the French TECV Act and the TCFD recommendations (risks and opportunities section)\",\n",
       " '6 3.1. What is (are) the fund(s) aiming to achieve by integrating ESG factors? 3.2. What internal or external resources are used for ESG evaluation of the issuers who make up the investment universe of the fund(s) ? 3.3. What ESG criteria are taken into account by the fund (s)? 3.4. What principles and criteria linked to climate change are taken into account in the fund (s)?5 3.5. What is the ESG analysis and evaluation methodology of the fund manager/fund management company (how is the investment universe built, what rating scale is used etc.)? 3.6. How often is the ESG evaluation of the issuers reviewed? How are any controversies managed? 4. Investment process 4.1. How are the results of the ESG research integrated into portfolio construction ? 4.2. How are criteria specific to climate change integrated into portfolio construction ?6 4.3. How are the issuers that are present in the portfolio , but not subject to ESG analysis evaluated (not including mutual funds)?7 Please specify how much the funds can hold. 4.4. Has the ESG evaluation or investment process changed in the last 12 months? 4.5. Is a part of the fund(s) invested in entities pursuing strong social goals /social enterprises ? 4.6. Does (do) the fund (s) engage in securities lending activities? If so, (i) is there a policy in place to recall the securities so as to exercise the voting rights? (ii) does the p rocess for selecting the counterparty(ies) integrate ESG criteria? 5 Reference to Article 173 of the French TECV Act see paragraphs 3 and 4 of Article D.533 -16-1 of Chapter III of the French Legal Code): https://www.legifrance.gouv.fr/affichCodeArticle.do?cidTexte=LEGITEXT000006072026&idArticle=LEGIARTI00 0031793697 6 Reference to Article 173 of the French TE CV Act and HLEG recommendations on DISCLOSURE 7 Reference to Article 173 of the French TECV Act and the TCFD recommendations (delivering on investor and stakeholder demands for climate -related information)',\n",
       " '7 4.7. Does (do) the fund (s) use derivative instruments? If so, please describe (i) their nature ; (ii) their objectives ; (iii) the potential limits in terms of exposure ; (iv) if appropriate, their impact on the SRI nature of the fund (s). 4.8. Does (do) the fund( s) invest in mutual funds? If so, how do you ensure compatibility between the policy for selecting mutual fund s and the SRI policy of the fund(s) ? How many funds can be held? 5. ESG controls 5.1. What internal and/or external control mechanisms are in place to ensure compliance of the portfolio with the ESG rules on managing the fund (s) as defined in section 4?8 6. Impact measures and ESG reporting 6.1. How is the ESG quality of the fund(s) assessed? 6.2. What ESG indicators are used by the fund (s)?9 6.3. What communication resources are used to provide investors with information about the SRI management of the fund (s)? 6.4. Does the fund management company publish the results of its voting and engagement policies?10 If so, please include links to the relevant activity reports. 8 Reference to Article 173 of the French TECV Act 9 Reference to Article 173 of the French TECV Act 10 Reference to Article 173 of the French TECV Act and the HLEG recommendations on GOVERNANCE']"
      ]
     },
     "execution_count": 33,
     "metadata": {},
     "output_type": "execute_result"
    }
   ],
   "source": [
    "#clean first pdf\n",
    "clean_EurosifTanspCode = []\n",
    "for i in range(len(EurosifTanspCode)):\n",
    "    text = clean_pdf(EurosifTanspCode[i])\n",
    "    clean_EurosifTanspCode.append(text)\n",
    "\n",
    "clean_EurosifTanspCode"
   ]
  },
  {
   "cell_type": "code",
   "execution_count": 35,
   "metadata": {},
   "outputs": [
    {
     "data": {
      "text/plain": [
       "[\"Do not harm We check whether the manager of the \\x00nancial product does not use your money to invest in companies or governments that are involved in activities and practices that are generally considered as very harmful. ESG due diligence using the ‘double materiality' perspective Each investment is screened for its potential positive or negative impact on sustainability issues like nature, labour conditions and good governance (ESG). Additionally, the possible impact of sustainability events like climate change, social unrest or legal controversies on the performance of the investments, is analysed. We exclude certain sectors No money for weapons, tobacco, coal, unconventional oil & gas and laggard oil & gas and electricity utilities. International norms and standards Investee companies must not violate high-level normative frameworks like the UN Global Compact, the UN Guiding Principles on Business and Human Rights, the OECD Guidelines for Multinational Enterprises, and the ILO Conventions. Positive impact Going beyond the minimal requirement of ‘do no harm’, the product manager shall use your money to invest in projects, companies or governments with a positive contribution to society. This is done by following at least one of these additional strategies.HOME›THE LABEL›QUALITY STANDARD 1 2THE LABEL The Quality Standard for sustainable investing The Quality Standard stipulates a set of portfolio and process level requirements. A \\x00nancial product should at least ful\\x00l these requirements to receive the label. They are a mix of exclusion, impact, engagement, transparency and accountability. Independent supervision by the Central Labelling Agency (CLA) protects the integrity of the Quality Standard and the label. ENNLFR HOMETHE LABELPRODUCTSAPPLYABOUT USBLOGCONTACT This website uses cookies This website uses cookies to improve the website. In addition to necessary cookies, so that the website works properly, we also place Analytical cookies to optimize your experience on our site. Third parties and social networks can also place cookies. We ask your permission for those cookies. Customize DeclineAccept all\",\n",
       " \"Best-in-class or Best-in-universe Investing in companies with the highest ESG ratings, overall, per industry, sector or region. Sustainability themed investing Investing in companies or sectors related to a speci\\x00c sustainability theme, e.g. clean energy, health, sustainable agriculture, diversity. Impact investing Investing in companies or projects dedicated to creating concrete and measurable positive social or environmental impact through their products or services. Outperforming a benchmark Building the investment portfolio in such a way that overall it scores better than a benchmark on one or more ESG indicators, e.g. carbon intensity. Overweighting and underweighting of positions Underweighting investments with lower ESG scores and overweighting investments with higher ESG scores in the portfolio, relative to the product's benchmark. Engagement Engaging in a dialogue with companies and/or exercising voting rights in the companies invested in. However, following this strategy as the only additional strategy is not su\\x00cient. For investments in the fossil fuel sector, engagement is mandatory. Solidarity or charity Donating part of the return of the portfolio or of the management fees to a charity or a good cause. However, following this strategy as the only additional strategy is not su\\x00cient. Other strategy Another way to favour more sustainable issuers in the selection process, if recognized by the CLA. Transparency Furthermore, the product manager needs to be transparent about its investment policies and publish on its website how and which harmful activities are avoided, and how positive impact is pursued. This will help you to determine if the policies governing the product are in line with your personal convictions. Signatories of the Quality Standard3 This website uses cookies This website uses cookies to improve the website. In addition to necessary cookies, so that the website works properly, we also place Analytical cookies to optimize your experience on our site. Third parties and social networks can also place cookies. We ask your permission for those cookies.\",\n",
       " \"Signatories commit that all products they market in Belgium as 'sustainable', have obtained or are in the process of obtaining the Towards Sustainability label. Of course, Signatories can also use other labels in addition to the Towards Sustainability label. Becoming a Signatory is a voluntary additional commitment on the level of the product provider. It is not a requirement for obtaining labels for individual products. Text of the Quality Standard Consult the full text of the new 2023 version of the Quality Standard (QS23). This text consolidates and updates all previous versions and will come into e\\x00ect in January 2024 for newly labelled portfolios and in June 2024 for currently labelled portfolios. Consult the full text of the original 2019 Quality Standard (QS19) including all detailed criteria. Or the technical document with the 2021 revisions (QS21) to the original text. Currently, all labelled products are aligned with QS21. Have a \\x00nancial product that needs labelling? APPLY NOW The Label Products About CLA Privacy policyCookie policyAbout the label Quality Standard Third-party veri\\x00cationProduct overview Apply for the labelThe CLA Board of directors Eligibility commission This website uses cookies This website uses cookies to improve the website. In addition to necessary cookies, so that the website works properly, we also place Analytical cookies to optimize your experience on our site. Third parties and social networks can also place cookies. We ask your permission for those cookies.\"]"
      ]
     },
     "execution_count": 35,
     "metadata": {},
     "output_type": "execute_result"
    }
   ],
   "source": [
    "#clean second pdf\n",
    "clean_towardsSustainCode = []\n",
    "for i in range(len(towardsSustainCode)):\n",
    "    text = clean_pdf(towardsSustainCode[i])\n",
    "    clean_towardsSustainCode.append(text)\n",
    "    \n",
    "clean_towardsSustainCode"
   ]
  },
  {
   "cell_type": "code",
   "execution_count": 37,
   "metadata": {},
   "outputs": [],
   "source": [
    "#merge both lists into one string\n",
    "EurosifTanspCode = ' '.join(clean_EurosifTanspCode)\n",
    "towardsSustainCode = ' '.join(clean_towardsSustainCode)"
   ]
  },
  {
   "cell_type": "code",
   "execution_count": 40,
   "metadata": {},
   "outputs": [
    {
     "name": "stderr",
     "output_type": "stream",
     "text": [
      "/Library/Frameworks/Python.framework/Versions/3.11/lib/python3.11/site-packages/tqdm/auto.py:21: TqdmWarning: IProgress not found. Please update jupyter and ipywidgets. See https://ipywidgets.readthedocs.io/en/stable/user_install.html\n",
      "  from .autonotebook import tqdm as notebook_tqdm\n",
      "README.md: 100%|██████████| 10.6k/10.6k [00:00<00:00, 4.31MB/s]\n"
     ]
    }
   ],
   "source": [
    "#retrieve embedding model\n",
    "embeddings = HuggingFaceEmbeddings(model_name=\"sentence-transformers/all-mpnet-base-v2\")\n"
   ]
  },
  {
   "cell_type": "code",
   "execution_count": 58,
   "metadata": {},
   "outputs": [],
   "source": [
    "#embed documents \n",
    "EurosifTanspCode_embedding = embeddings.embed_query(EurosifTanspCode) \n",
    "towardsSustainCode_embedding = embeddings.embed_query(towardsSustainCode) "
   ]
  },
  {
   "cell_type": "code",
   "execution_count": 59,
   "metadata": {},
   "outputs": [
    {
     "name": "stdout",
     "output_type": "stream",
     "text": [
      "0.5223064336517785\n"
     ]
    }
   ],
   "source": [
    "def compute_similarity(embedding1, embedding2):\n",
    "    return cosine_similarity([embedding1], [embedding2])[0][0]\n",
    "\n",
    "print(compute_similarity(EurosifTanspCode_embedding, towardsSustainCode_embedding))"
   ]
  },
  {
   "cell_type": "code",
   "execution_count": 61,
   "metadata": {},
   "outputs": [
    {
     "name": "stderr",
     "output_type": "stream",
     "text": [
      "modules.json: 100%|██████████| 229/229 [00:00<00:00, 47.4kB/s]\n",
      "config_sentence_transformers.json: 100%|██████████| 122/122 [00:00<00:00, 107kB/s]\n",
      "README.md: 100%|██████████| 3.99k/3.99k [00:00<00:00, 1.25MB/s]\n",
      "sentence_bert_config.json: 100%|██████████| 53.0/53.0 [00:00<00:00, 194kB/s]\n",
      "config.json: 100%|██████████| 625/625 [00:00<00:00, 1.75MB/s]\n",
      "pytorch_model.bin: 100%|██████████| 438M/438M [00:17<00:00, 25.1MB/s] \n",
      "tokenizer_config.json: 100%|██████████| 399/399 [00:00<00:00, 349kB/s]\n",
      "vocab.txt: 100%|██████████| 232k/232k [00:00<00:00, 5.39MB/s]\n",
      "tokenizer.json: 100%|██████████| 466k/466k [00:00<00:00, 19.5MB/s]\n",
      "added_tokens.json: 100%|██████████| 2.00/2.00 [00:00<00:00, 3.67kB/s]\n",
      "special_tokens_map.json: 100%|██████████| 112/112 [00:00<00:00, 183kB/s]\n",
      "1_Pooling/config.json: 100%|██████████| 190/190 [00:00<00:00, 526kB/s]\n"
     ]
    }
   ],
   "source": [
    "#import bert transformer model\n",
    "sbert_model = SentenceTransformer('bert-base-nli-mean-tokens')"
   ]
  },
  {
   "cell_type": "code",
   "execution_count": 62,
   "metadata": {},
   "outputs": [],
   "source": [
    "#use bert embeddings\n",
    "EurosifTanspCode_embeddings = sbert_model.encode(EurosifTanspCode)\n",
    "towardsSustainCode_embeddings = sbert_model.encode(towardsSustainCode)"
   ]
  },
  {
   "cell_type": "code",
   "execution_count": 63,
   "metadata": {},
   "outputs": [
    {
     "name": "stdout",
     "output_type": "stream",
     "text": [
      "0.55134165\n"
     ]
    }
   ],
   "source": [
    "#get the similarity score with bert embeddings\n",
    "def compute_similarity(embedding1, embedding2):\n",
    "    return cosine_similarity([embedding1], [embedding2])[0][0]\n",
    "\n",
    "print(compute_similarity(EurosifTanspCode_embeddings, towardsSustainCode_embeddings))"
   ]
  }
 ],
 "metadata": {
  "kernelspec": {
   "display_name": "Python 3",
   "language": "python",
   "name": "python3"
  },
  "language_info": {
   "codemirror_mode": {
    "name": "ipython",
    "version": 3
   },
   "file_extension": ".py",
   "mimetype": "text/x-python",
   "name": "python",
   "nbconvert_exporter": "python",
   "pygments_lexer": "ipython3",
   "version": "3.11.5"
  }
 },
 "nbformat": 4,
 "nbformat_minor": 2
}
